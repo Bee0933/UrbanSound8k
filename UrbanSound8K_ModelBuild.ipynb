{
  "nbformat": 4,
  "nbformat_minor": 0,
  "metadata": {
    "colab": {
      "name": "UrbanSound8K_ModelBuild.ipynb",
      "provenance": []
    },
    "kernelspec": {
      "name": "python3",
      "display_name": "Python 3"
    },
    "language_info": {
      "name": "python"
    },
    "accelerator": "GPU"
  },
  "cells": [
    {
      "cell_type": "code",
      "execution_count": 3,
      "metadata": {
        "colab": {
          "base_uri": "https://localhost:8080/",
          "height": 35
        },
        "id": "Hwn05zRxUKOe",
        "outputId": "e7a2b18b-2d00-4b49-f9bb-3cbc12abe63d"
      },
      "outputs": [
        {
          "output_type": "execute_result",
          "data": {
            "text/plain": [
              "'2.8.2'"
            ],
            "application/vnd.google.colaboratory.intrinsic+json": {
              "type": "string"
            }
          },
          "metadata": {},
          "execution_count": 3
        }
      ],
      "source": [
        "import numpy as np\n",
        "import pickle as pkl\n",
        "import pandas as pd\n",
        "import tensorflow as tf\n",
        "import matplotlib.pyplot as plt\n",
        "from sklearn.preprocessing import LabelEncoder\n",
        "from tensorflow.keras.utils import to_categorical\n",
        "from tensorflow.keras.utils import plot_model\n",
        "from sklearn.model_selection import train_test_split\n",
        "from sklearn.preprocessing import MinMaxScaler\n",
        "from sklearn.metrics import confusion_matrix as cm\n",
        "from sklearn.metrics import ConfusionMatrixDisplay \n",
        "\n",
        "\n",
        "from sklearn.tree import DecisionTreeClassifier\n",
        "from sklearn.ensemble import RandomForestClassifier\n",
        "from sklearn.svm import SVC\n",
        "from sklearn.naive_bayes import GaussianNB\n",
        "from sklearn.linear_model import LogisticRegression\n",
        "from sklearn.neighbors import KNeighborsClassifier\n",
        "from sklearn.neural_network import MLPClassifier\n",
        "from sklearn.metrics import accuracy_score, f1_score\n",
        "\n",
        "import warnings\n",
        "warnings.filterwarnings(action='ignore')\n",
        "%matplotlib inline\n",
        "\n",
        "tf.__version__"
      ]
    },
    {
      "cell_type": "code",
      "source": [
        "! nvidia-smi"
      ],
      "metadata": {
        "colab": {
          "base_uri": "https://localhost:8080/"
        },
        "id": "Fo7ZhdC_wPeZ",
        "outputId": "5fb716cd-0dd0-4d1a-b09a-bdd053b45bd1"
      },
      "execution_count": 4,
      "outputs": [
        {
          "output_type": "stream",
          "name": "stdout",
          "text": [
            "Tue Jun  7 13:21:47 2022       \n",
            "+-----------------------------------------------------------------------------+\n",
            "| NVIDIA-SMI 460.32.03    Driver Version: 460.32.03    CUDA Version: 11.2     |\n",
            "|-------------------------------+----------------------+----------------------+\n",
            "| GPU  Name        Persistence-M| Bus-Id        Disp.A | Volatile Uncorr. ECC |\n",
            "| Fan  Temp  Perf  Pwr:Usage/Cap|         Memory-Usage | GPU-Util  Compute M. |\n",
            "|                               |                      |               MIG M. |\n",
            "|===============================+======================+======================|\n",
            "|   0  Tesla T4            Off  | 00000000:00:04.0 Off |                    0 |\n",
            "| N/A   54C    P8    10W /  70W |      0MiB / 15109MiB |      0%      Default |\n",
            "|                               |                      |                  N/A |\n",
            "+-------------------------------+----------------------+----------------------+\n",
            "                                                                               \n",
            "+-----------------------------------------------------------------------------+\n",
            "| Processes:                                                                  |\n",
            "|  GPU   GI   CI        PID   Type   Process name                  GPU Memory |\n",
            "|        ID   ID                                                   Usage      |\n",
            "|=============================================================================|\n",
            "|  No running processes found                                                 |\n",
            "+-----------------------------------------------------------------------------+\n"
          ]
        }
      ]
    },
    {
      "cell_type": "markdown",
      "source": [
        "### Model Build with raw data extract - Feature dimesion == 40  "
      ],
      "metadata": {
        "id": "l-NYz0MqIGUv"
      }
    },
    {
      "cell_type": "code",
      "source": [
        "from google.colab import drive\n",
        "drive.mount('/content/drive')"
      ],
      "metadata": {
        "colab": {
          "base_uri": "https://localhost:8080/"
        },
        "id": "AGgkVJpOGT3r",
        "outputId": "345456b0-e515-49fb-b27a-db194db55ab2"
      },
      "execution_count": 5,
      "outputs": [
        {
          "output_type": "stream",
          "name": "stdout",
          "text": [
            "Mounted at /content/drive\n"
          ]
        }
      ]
    },
    {
      "cell_type": "code",
      "source": [
        "XDATA_PATH = '/content/drive/MyDrive/UrbanSound8K/Xvalues'\n",
        "YDATA_PATH = '/content/drive/MyDrive/UrbanSound8K/yvalues'\n",
        "\n",
        "with open(XDATA_PATH, 'rb') as f:\n",
        "  X = pkl.load(f)\n",
        "with open(YDATA_PATH, 'rb') as f:\n",
        "  y = pkl.load(f)\n",
        "\n",
        "X.shape, y.shape, X.dtype"
      ],
      "metadata": {
        "colab": {
          "base_uri": "https://localhost:8080/"
        },
        "id": "XUqXpKbLu2mM",
        "outputId": "3170d92c-a741-437f-925a-81630b02b779"
      },
      "execution_count": 6,
      "outputs": [
        {
          "output_type": "execute_result",
          "data": {
            "text/plain": [
              "((8732, 40), (8732,), dtype('float32'))"
            ]
          },
          "metadata": {},
          "execution_count": 6
        }
      ]
    },
    {
      "cell_type": "code",
      "source": [
        "# encode y labels\n",
        "le = LabelEncoder()\n",
        "y_encoded = le.fit_transform(y)\n",
        "mappings = {index: label for index, label in enumerate(le.classes_)}\n",
        "print('encoded data mapping')\n",
        "print(mappings)\n",
        "print('\\n \\n')\n",
        "\n",
        "print('one hot encoded')\n",
        "y_encoded = to_categorical(y_encoded)\n",
        "y_encoded, y_encoded.shape"
      ],
      "metadata": {
        "colab": {
          "base_uri": "https://localhost:8080/"
        },
        "id": "XPEBmwBIxk16",
        "outputId": "813c544c-f3f0-4018-f67b-bdfe5ae5f62e"
      },
      "execution_count": 7,
      "outputs": [
        {
          "output_type": "stream",
          "name": "stdout",
          "text": [
            "encoded data mapping\n",
            "{0: 'air_conditioner', 1: 'car_horn', 2: 'children_playing', 3: 'dog_bark', 4: 'drilling', 5: 'engine_idling', 6: 'gun_shot', 7: 'jackhammer', 8: 'siren', 9: 'street_music'}\n",
            "\n",
            " \n",
            "\n",
            "one hot encoded\n"
          ]
        },
        {
          "output_type": "execute_result",
          "data": {
            "text/plain": [
              "(array([[0., 1., 0., ..., 0., 0., 0.],\n",
              "        [0., 1., 0., ..., 0., 0., 0.],\n",
              "        [0., 1., 0., ..., 0., 0., 0.],\n",
              "        ...,\n",
              "        [0., 0., 0., ..., 0., 0., 0.],\n",
              "        [0., 0., 0., ..., 0., 0., 0.],\n",
              "        [0., 0., 0., ..., 0., 0., 0.]], dtype=float32), (8732, 10))"
            ]
          },
          "metadata": {},
          "execution_count": 7
        }
      ]
    },
    {
      "cell_type": "code",
      "source": [
        "X_train, X_test, y_train, y_test = train_test_split(X,y_encoded, test_size=0.2,\n",
        "                                                    random_state=0)\n",
        "X_train, X_val, y_train, y_val = train_test_split(X_train,y_train, test_size=0.1,\n",
        "                                                  random_state=0)\n",
        "X_train.shape, X_test.shape, y_train.shape, y_test.shape"
      ],
      "metadata": {
        "colab": {
          "base_uri": "https://localhost:8080/"
        },
        "id": "YlzbDlAjHbU6",
        "outputId": "a9956a9e-bd41-40e0-bc46-23155dd0bd0e"
      },
      "execution_count": 8,
      "outputs": [
        {
          "output_type": "execute_result",
          "data": {
            "text/plain": [
              "((6286, 40), (1747, 40), (6286, 10), (1747, 10))"
            ]
          },
          "metadata": {},
          "execution_count": 8
        }
      ]
    },
    {
      "cell_type": "code",
      "source": [
        "# Build Artificial Neural Network \n",
        "\n",
        "# set seed\n",
        "tf.random.set_seed(42)\n",
        "\n",
        "X_INPUT_SHAPE = 40\n",
        "Y_INPUT_SHAPE = 10\n",
        "\n",
        "# create ANN architecture\n",
        "model1 = tf.keras.Sequential([\n",
        "          \n",
        "          #first layer + Dropout\n",
        "          tf.keras.layers.Dense(100, input_shape=(X_INPUT_SHAPE,), activation='relu', name='First_layer'),\n",
        "          tf.keras.layers.Dropout(0.2),\n",
        "\n",
        "          # second layer + Dropout\n",
        "          tf.keras.layers.Dense(200, activation='relu', name='second_layer'),\n",
        "          tf.keras.layers.Dropout(0.2),\n",
        "\n",
        "          # Third layer + Dropout\n",
        "          tf.keras.layers.Dense(100, activation='relu', name='third_layer'),\n",
        "          tf.keras.layers.Dropout(0.2),\n",
        "\n",
        "          # fourth layer\n",
        "          tf.keras.layers.Dense(100, activation='relu', name='fourth_layer'),\n",
        "          tf.keras.layers.Dropout(0.2),\n",
        "\n",
        "          # output layer - one hot y_values\n",
        "          tf.keras.layers.Dense(Y_INPUT_SHAPE, activation='softmax', name='output_layer')\n",
        "])\n",
        "\n",
        "# compile model\n",
        "model1.compile(\n",
        "    loss=tf.keras.losses.categorical_crossentropy,\n",
        "    optimizer=tf.keras.optimizers.Adam(),\n",
        "    metrics=['accuracy']\n",
        ")\n",
        "\n",
        "# lr scheduler\n",
        "lr_scheduler = tf.keras.callbacks.LearningRateScheduler(lambda epoch: 1e-4 * (10**(epoch/20)))"
      ],
      "metadata": {
        "id": "g4yjxspmyOO6"
      },
      "execution_count": 9,
      "outputs": []
    },
    {
      "cell_type": "code",
      "source": [
        "model1.summary()"
      ],
      "metadata": {
        "colab": {
          "base_uri": "https://localhost:8080/"
        },
        "id": "xIODPi-ULjWA",
        "outputId": "35952a58-8b94-40fb-9fb5-1caf80c3f0e0"
      },
      "execution_count": 10,
      "outputs": [
        {
          "output_type": "stream",
          "name": "stdout",
          "text": [
            "Model: \"sequential\"\n",
            "_________________________________________________________________\n",
            " Layer (type)                Output Shape              Param #   \n",
            "=================================================================\n",
            " First_layer (Dense)         (None, 100)               4100      \n",
            "                                                                 \n",
            " dropout (Dropout)           (None, 100)               0         \n",
            "                                                                 \n",
            " second_layer (Dense)        (None, 200)               20200     \n",
            "                                                                 \n",
            " dropout_1 (Dropout)         (None, 200)               0         \n",
            "                                                                 \n",
            " third_layer (Dense)         (None, 100)               20100     \n",
            "                                                                 \n",
            " dropout_2 (Dropout)         (None, 100)               0         \n",
            "                                                                 \n",
            " fourth_layer (Dense)        (None, 100)               10100     \n",
            "                                                                 \n",
            " dropout_3 (Dropout)         (None, 100)               0         \n",
            "                                                                 \n",
            " output_layer (Dense)        (None, 10)                1010      \n",
            "                                                                 \n",
            "=================================================================\n",
            "Total params: 55,510\n",
            "Trainable params: 55,510\n",
            "Non-trainable params: 0\n",
            "_________________________________________________________________\n"
          ]
        }
      ]
    },
    {
      "cell_type": "code",
      "source": [
        "plot_model(model=model1, show_shapes=True, show_layer_activations=True)"
      ],
      "metadata": {
        "colab": {
          "base_uri": "https://localhost:8080/",
          "height": 1000
        },
        "id": "SkItwtRPNEas",
        "outputId": "a9d12942-ca1a-4c83-cc68-0d882fcb6bcf"
      },
      "execution_count": 11,
      "outputs": [
        {
          "output_type": "execute_result",
          "data": {
            "text/plain": [
              "<IPython.core.display.Image object>"
            ],
            "image/png": "[encoded data removed]"
          },
          "metadata": {},
          "execution_count": 11
        }
      ]
    },
    {
      "cell_type": "code",
      "source": [
        "history1 = model1.fit(X_train, y_train, epochs=100,\n",
        "                      validation_data=(X_val,y_val),\n",
        "                      callbacks=[lr_scheduler],verbose=1)"
      ],
      "metadata": {
        "colab": {
          "base_uri": "https://localhost:8080/"
        },
        "id": "gyWcVum4dVcd",
        "outputId": "84c330d1-a528-4800-fdb0-f90d85827dcf"
      },
      "execution_count": 12,
      "outputs": [
        {
          "output_type": "stream",
          "name": "stdout",
          "text": [
            "Epoch 1/100\n",
            "197/197 [==============================] - 4s 4ms/step - loss: 9.9271 - accuracy: 0.1131 - val_loss: 2.3476 - val_accuracy: 0.1674 - lr: 1.0000e-04\n",
            "Epoch 2/100\n",
            "197/197 [==============================] - 1s 3ms/step - loss: 4.1236 - accuracy: 0.1319 - val_loss: 2.1985 - val_accuracy: 0.1888 - lr: 1.1220e-04\n",
            "Epoch 3/100\n",
            "197/197 [==============================] - 1s 3ms/step - loss: 2.9000 - accuracy: 0.1476 - val_loss: 2.2349 - val_accuracy: 0.1745 - lr: 1.2589e-04\n",
            "Epoch 4/100\n",
            "197/197 [==============================] - 1s 3ms/step - loss: 2.5070 - accuracy: 0.1468 - val_loss: 2.2359 - val_accuracy: 0.1717 - lr: 1.4125e-04\n",
            "Epoch 5/100\n",
            "197/197 [==============================] - 1s 3ms/step - loss: 2.3388 - accuracy: 0.1650 - val_loss: 2.2157 - val_accuracy: 0.1817 - lr: 1.5849e-04\n",
            "Epoch 6/100\n",
            "197/197 [==============================] - 1s 3ms/step - loss: 2.2517 - accuracy: 0.1769 - val_loss: 2.1814 - val_accuracy: 0.1960 - lr: 1.7783e-04\n",
            "Epoch 7/100\n",
            "197/197 [==============================] - 1s 3ms/step - loss: 2.2077 - accuracy: 0.2017 - val_loss: 2.1192 - val_accuracy: 0.2403 - lr: 1.9953e-04\n",
            "Epoch 8/100\n",
            "197/197 [==============================] - 1s 3ms/step - loss: 2.1606 - accuracy: 0.2203 - val_loss: 2.0487 - val_accuracy: 0.2861 - lr: 2.2387e-04\n",
            "Epoch 9/100\n",
            "197/197 [==============================] - 1s 3ms/step - loss: 2.0988 - accuracy: 0.2444 - val_loss: 1.9630 - val_accuracy: 0.3433 - lr: 2.5119e-04\n",
            "Epoch 10/100\n",
            "197/197 [==============================] - 1s 3ms/step - loss: 2.0449 - accuracy: 0.2665 - val_loss: 1.9296 - val_accuracy: 0.3262 - lr: 2.8184e-04\n",
            "Epoch 11/100\n",
            "197/197 [==============================] - 1s 3ms/step - loss: 1.9774 - accuracy: 0.2813 - val_loss: 1.8373 - val_accuracy: 0.3906 - lr: 3.1623e-04\n",
            "Epoch 12/100\n",
            "197/197 [==============================] - 1s 3ms/step - loss: 1.9262 - accuracy: 0.3069 - val_loss: 1.7319 - val_accuracy: 0.4349 - lr: 3.5481e-04\n",
            "Epoch 13/100\n",
            "197/197 [==============================] - 1s 3ms/step - loss: 1.8398 - accuracy: 0.3428 - val_loss: 1.6549 - val_accuracy: 0.4535 - lr: 3.9811e-04\n",
            "Epoch 14/100\n",
            "197/197 [==============================] - 1s 3ms/step - loss: 1.7567 - accuracy: 0.3683 - val_loss: 1.5306 - val_accuracy: 0.5136 - lr: 4.4668e-04\n",
            "Epoch 15/100\n",
            "197/197 [==============================] - 1s 3ms/step - loss: 1.6584 - accuracy: 0.4185 - val_loss: 1.4468 - val_accuracy: 0.5579 - lr: 5.0119e-04\n",
            "Epoch 16/100\n",
            "197/197 [==============================] - 1s 3ms/step - loss: 1.5906 - accuracy: 0.4432 - val_loss: 1.3682 - val_accuracy: 0.5680 - lr: 5.6234e-04\n",
            "Epoch 17/100\n",
            "197/197 [==============================] - 1s 3ms/step - loss: 1.5078 - accuracy: 0.4766 - val_loss: 1.2895 - val_accuracy: 0.5794 - lr: 6.3096e-04\n",
            "Epoch 18/100\n",
            "197/197 [==============================] - 1s 3ms/step - loss: 1.4180 - accuracy: 0.5075 - val_loss: 1.1904 - val_accuracy: 0.6237 - lr: 7.0795e-04\n",
            "Epoch 19/100\n",
            "197/197 [==============================] - 1s 3ms/step - loss: 1.3506 - accuracy: 0.5437 - val_loss: 1.1347 - val_accuracy: 0.6352 - lr: 7.9433e-04\n",
            "Epoch 20/100\n",
            "197/197 [==============================] - 1s 3ms/step - loss: 1.2884 - accuracy: 0.5589 - val_loss: 1.0939 - val_accuracy: 0.6509 - lr: 8.9125e-04\n",
            "Epoch 21/100\n",
            "197/197 [==============================] - 1s 3ms/step - loss: 1.2220 - accuracy: 0.5850 - val_loss: 1.0252 - val_accuracy: 0.6867 - lr: 0.0010\n",
            "Epoch 22/100\n",
            "197/197 [==============================] - 1s 3ms/step - loss: 1.1578 - accuracy: 0.6055 - val_loss: 0.9614 - val_accuracy: 0.6938 - lr: 0.0011\n",
            "Epoch 23/100\n",
            "197/197 [==============================] - 1s 3ms/step - loss: 1.1159 - accuracy: 0.6249 - val_loss: 0.9489 - val_accuracy: 0.6824 - lr: 0.0013\n",
            "Epoch 24/100\n",
            "197/197 [==============================] - 1s 3ms/step - loss: 1.0613 - accuracy: 0.6503 - val_loss: 0.8809 - val_accuracy: 0.7167 - lr: 0.0014\n",
            "Epoch 25/100\n",
            "197/197 [==============================] - 1s 3ms/step - loss: 1.0356 - accuracy: 0.6526 - val_loss: 0.8817 - val_accuracy: 0.7110 - lr: 0.0016\n",
            "Epoch 26/100\n",
            "197/197 [==============================] - 1s 3ms/step - loss: 1.0192 - accuracy: 0.6583 - val_loss: 0.8131 - val_accuracy: 0.7468 - lr: 0.0018\n",
            "Epoch 27/100\n",
            "197/197 [==============================] - 1s 3ms/step - loss: 0.9845 - accuracy: 0.6715 - val_loss: 0.8680 - val_accuracy: 0.7339 - lr: 0.0020\n",
            "Epoch 28/100\n",
            "197/197 [==============================] - 1s 3ms/step - loss: 0.9831 - accuracy: 0.6739 - val_loss: 0.8407 - val_accuracy: 0.7396 - lr: 0.0022\n",
            "Epoch 29/100\n",
            "197/197 [==============================] - 1s 3ms/step - loss: 0.9679 - accuracy: 0.6804 - val_loss: 0.7885 - val_accuracy: 0.7697 - lr: 0.0025\n",
            "Epoch 30/100\n",
            "197/197 [==============================] - 1s 3ms/step - loss: 0.9575 - accuracy: 0.6876 - val_loss: 0.7898 - val_accuracy: 0.7353 - lr: 0.0028\n",
            "Epoch 31/100\n",
            "197/197 [==============================] - 1s 3ms/step - loss: 0.9757 - accuracy: 0.6755 - val_loss: 0.8340 - val_accuracy: 0.7296 - lr: 0.0032\n",
            "Epoch 32/100\n",
            "197/197 [==============================] - 1s 3ms/step - loss: 0.9791 - accuracy: 0.6758 - val_loss: 0.9302 - val_accuracy: 0.6896 - lr: 0.0035\n",
            "Epoch 33/100\n",
            "197/197 [==============================] - 1s 3ms/step - loss: 1.0714 - accuracy: 0.6546 - val_loss: 0.9336 - val_accuracy: 0.7082 - lr: 0.0040\n",
            "Epoch 34/100\n",
            "197/197 [==============================] - 1s 3ms/step - loss: 1.0725 - accuracy: 0.6508 - val_loss: 0.9353 - val_accuracy: 0.6652 - lr: 0.0045\n",
            "Epoch 35/100\n",
            "197/197 [==============================] - 1s 3ms/step - loss: 1.1550 - accuracy: 0.6314 - val_loss: 1.0716 - val_accuracy: 0.6567 - lr: 0.0050\n",
            "Epoch 36/100\n",
            "197/197 [==============================] - 1s 3ms/step - loss: 1.2293 - accuracy: 0.6021 - val_loss: 1.0227 - val_accuracy: 0.6481 - lr: 0.0056\n",
            "Epoch 37/100\n",
            "197/197 [==============================] - 1s 3ms/step - loss: 1.2672 - accuracy: 0.5907 - val_loss: 1.0761 - val_accuracy: 0.6624 - lr: 0.0063\n",
            "Epoch 38/100\n",
            "197/197 [==============================] - 1s 3ms/step - loss: 1.4544 - accuracy: 0.5320 - val_loss: 1.5207 - val_accuracy: 0.5379 - lr: 0.0071\n",
            "Epoch 39/100\n",
            "197/197 [==============================] - 1s 3ms/step - loss: 1.6841 - accuracy: 0.4728 - val_loss: 1.5324 - val_accuracy: 0.4764 - lr: 0.0079\n",
            "Epoch 40/100\n",
            "197/197 [==============================] - 1s 3ms/step - loss: 1.7140 - accuracy: 0.4220 - val_loss: 1.5027 - val_accuracy: 0.4850 - lr: 0.0089\n",
            "Epoch 41/100\n",
            "197/197 [==============================] - 1s 3ms/step - loss: 1.8819 - accuracy: 0.3648 - val_loss: 1.6946 - val_accuracy: 0.3963 - lr: 0.0100\n",
            "Epoch 42/100\n",
            "197/197 [==============================] - 1s 3ms/step - loss: 1.9719 - accuracy: 0.3008 - val_loss: 1.8932 - val_accuracy: 0.3219 - lr: 0.0112\n",
            "Epoch 43/100\n",
            "197/197 [==============================] - 1s 3ms/step - loss: 2.0333 - accuracy: 0.2838 - val_loss: 2.3707 - val_accuracy: 0.3991 - lr: 0.0126\n",
            "Epoch 44/100\n",
            "197/197 [==============================] - 1s 4ms/step - loss: 2.3097 - accuracy: 0.1968 - val_loss: 2.2565 - val_accuracy: 0.1144 - lr: 0.0141\n",
            "Epoch 45/100\n",
            "197/197 [==============================] - 1s 5ms/step - loss: 2.2605 - accuracy: 0.1145 - val_loss: 2.2598 - val_accuracy: 0.1302 - lr: 0.0158\n",
            "Epoch 46/100\n",
            "197/197 [==============================] - 1s 5ms/step - loss: 2.2479 - accuracy: 0.1327 - val_loss: 2.1920 - val_accuracy: 0.1516 - lr: 0.0178\n",
            "Epoch 47/100\n",
            "197/197 [==============================] - 1s 4ms/step - loss: 2.2854 - accuracy: 0.1457 - val_loss: 2.2623 - val_accuracy: 0.1016 - lr: 0.0200\n",
            "Epoch 48/100\n",
            "197/197 [==============================] - 1s 4ms/step - loss: 2.2613 - accuracy: 0.1141 - val_loss: 2.2614 - val_accuracy: 0.1144 - lr: 0.0224\n",
            "Epoch 49/100\n",
            "197/197 [==============================] - 1s 3ms/step - loss: 2.2582 - accuracy: 0.1144 - val_loss: 2.2662 - val_accuracy: 0.1144 - lr: 0.0251\n",
            "Epoch 50/100\n",
            "197/197 [==============================] - 1s 3ms/step - loss: 2.2593 - accuracy: 0.1336 - val_loss: 2.2307 - val_accuracy: 0.1445 - lr: 0.0282\n",
            "Epoch 51/100\n",
            "197/197 [==============================] - 1s 3ms/step - loss: 2.2457 - accuracy: 0.1521 - val_loss: 2.2628 - val_accuracy: 0.1030 - lr: 0.0316\n",
            "Epoch 52/100\n",
            "197/197 [==============================] - 1s 3ms/step - loss: 2.2752 - accuracy: 0.1096 - val_loss: 2.2588 - val_accuracy: 0.1144 - lr: 0.0355\n",
            "Epoch 53/100\n",
            "197/197 [==============================] - 1s 3ms/step - loss: 2.2642 - accuracy: 0.1117 - val_loss: 2.2573 - val_accuracy: 0.1116 - lr: 0.0398\n",
            "Epoch 54/100\n",
            "197/197 [==============================] - 1s 3ms/step - loss: 2.2636 - accuracy: 0.1139 - val_loss: 2.2687 - val_accuracy: 0.1016 - lr: 0.0447\n",
            "Epoch 55/100\n",
            "197/197 [==============================] - 1s 3ms/step - loss: 2.2653 - accuracy: 0.1056 - val_loss: 2.2612 - val_accuracy: 0.1144 - lr: 0.0501\n",
            "Epoch 56/100\n",
            "197/197 [==============================] - 1s 3ms/step - loss: 2.2658 - accuracy: 0.1088 - val_loss: 2.2629 - val_accuracy: 0.1173 - lr: 0.0562\n",
            "Epoch 57/100\n",
            "197/197 [==============================] - 1s 3ms/step - loss: 2.2652 - accuracy: 0.1149 - val_loss: 2.2762 - val_accuracy: 0.1116 - lr: 0.0631\n",
            "Epoch 58/100\n",
            "197/197 [==============================] - 1s 3ms/step - loss: 2.2670 - accuracy: 0.1182 - val_loss: 2.2712 - val_accuracy: 0.0973 - lr: 0.0708\n",
            "Epoch 59/100\n",
            "197/197 [==============================] - 1s 3ms/step - loss: 2.2700 - accuracy: 0.1134 - val_loss: 2.2718 - val_accuracy: 0.1144 - lr: 0.0794\n",
            "Epoch 60/100\n",
            "197/197 [==============================] - 1s 3ms/step - loss: 2.2669 - accuracy: 0.1147 - val_loss: 2.2718 - val_accuracy: 0.1144 - lr: 0.0891\n",
            "Epoch 61/100\n",
            "197/197 [==============================] - 1s 3ms/step - loss: 2.2693 - accuracy: 0.1144 - val_loss: 2.2698 - val_accuracy: 0.1016 - lr: 0.1000\n",
            "Epoch 62/100\n",
            "197/197 [==============================] - 1s 3ms/step - loss: 2.2738 - accuracy: 0.1136 - val_loss: 2.2829 - val_accuracy: 0.1116 - lr: 0.1122\n",
            "Epoch 63/100\n",
            "197/197 [==============================] - 1s 3ms/step - loss: 2.3361 - accuracy: 0.1094 - val_loss: 2.2853 - val_accuracy: 0.1159 - lr: 0.1259\n",
            "Epoch 64/100\n",
            "197/197 [==============================] - 1s 3ms/step - loss: 2.2860 - accuracy: 0.1117 - val_loss: 2.2671 - val_accuracy: 0.1302 - lr: 0.1413\n",
            "Epoch 65/100\n",
            "197/197 [==============================] - 1s 3ms/step - loss: 2.3103 - accuracy: 0.1093 - val_loss: 2.2663 - val_accuracy: 0.1302 - lr: 0.1585\n",
            "Epoch 66/100\n",
            "197/197 [==============================] - 1s 3ms/step - loss: 2.7001 - accuracy: 0.1128 - val_loss: 2.2748 - val_accuracy: 0.0973 - lr: 0.1778\n",
            "Epoch 67/100\n",
            "197/197 [==============================] - 1s 3ms/step - loss: 2.2861 - accuracy: 0.1091 - val_loss: 2.2744 - val_accuracy: 0.1302 - lr: 0.1995\n",
            "Epoch 68/100\n",
            "197/197 [==============================] - 1s 3ms/step - loss: 2.2880 - accuracy: 0.1133 - val_loss: 2.2885 - val_accuracy: 0.1302 - lr: 0.2239\n",
            "Epoch 69/100\n",
            "197/197 [==============================] - 1s 3ms/step - loss: 2.2964 - accuracy: 0.1098 - val_loss: 2.2700 - val_accuracy: 0.1302 - lr: 0.2512\n",
            "Epoch 70/100\n",
            "197/197 [==============================] - 1s 3ms/step - loss: 2.2887 - accuracy: 0.1223 - val_loss: 2.2727 - val_accuracy: 0.1144 - lr: 0.2818\n",
            "Epoch 71/100\n",
            "197/197 [==============================] - 1s 3ms/step - loss: 2.2908 - accuracy: 0.1204 - val_loss: 2.2947 - val_accuracy: 0.1302 - lr: 0.3162\n",
            "Epoch 72/100\n",
            "197/197 [==============================] - 1s 3ms/step - loss: 2.3047 - accuracy: 0.1122 - val_loss: 2.2803 - val_accuracy: 0.1302 - lr: 0.3548\n",
            "Epoch 73/100\n",
            "197/197 [==============================] - 1s 3ms/step - loss: 10.1130 - accuracy: 0.1164 - val_loss: 2.3094 - val_accuracy: 0.1173 - lr: 0.3981\n",
            "Epoch 74/100\n",
            "197/197 [==============================] - 1s 3ms/step - loss: 2.3217 - accuracy: 0.1141 - val_loss: 2.3405 - val_accuracy: 0.1144 - lr: 0.4467\n",
            "Epoch 75/100\n",
            "197/197 [==============================] - 1s 3ms/step - loss: 2.3124 - accuracy: 0.1195 - val_loss: 2.3418 - val_accuracy: 0.1302 - lr: 0.5012\n",
            "Epoch 76/100\n",
            "197/197 [==============================] - 1s 3ms/step - loss: 2.3246 - accuracy: 0.1144 - val_loss: 2.3922 - val_accuracy: 0.1144 - lr: 0.5623\n",
            "Epoch 77/100\n",
            "197/197 [==============================] - 1s 3ms/step - loss: 2.3267 - accuracy: 0.1088 - val_loss: 2.4493 - val_accuracy: 0.1302 - lr: 0.6310\n",
            "Epoch 78/100\n",
            "197/197 [==============================] - 1s 3ms/step - loss: 2.3393 - accuracy: 0.1192 - val_loss: 2.3060 - val_accuracy: 0.1173 - lr: 0.7079\n",
            "Epoch 79/100\n",
            "197/197 [==============================] - 1s 3ms/step - loss: 2.3691 - accuracy: 0.1134 - val_loss: 2.3367 - val_accuracy: 0.1302 - lr: 0.7943\n",
            "Epoch 80/100\n",
            "197/197 [==============================] - 1s 3ms/step - loss: 2.3551 - accuracy: 0.1152 - val_loss: 2.3722 - val_accuracy: 0.0973 - lr: 0.8913\n",
            "Epoch 81/100\n",
            "197/197 [==============================] - 1s 3ms/step - loss: 2.3800 - accuracy: 0.1182 - val_loss: 2.3537 - val_accuracy: 0.1144 - lr: 1.0000\n",
            "Epoch 82/100\n",
            "197/197 [==============================] - 1s 3ms/step - loss: 2.3975 - accuracy: 0.1074 - val_loss: 2.3558 - val_accuracy: 0.1144 - lr: 1.1220\n",
            "Epoch 83/100\n",
            "197/197 [==============================] - 1s 3ms/step - loss: 2.4160 - accuracy: 0.1083 - val_loss: 2.3895 - val_accuracy: 0.1173 - lr: 1.2589\n",
            "Epoch 84/100\n",
            "197/197 [==============================] - 1s 3ms/step - loss: 2.3922 - accuracy: 0.1137 - val_loss: 2.4021 - val_accuracy: 0.1116 - lr: 1.4125\n",
            "Epoch 85/100\n",
            "197/197 [==============================] - 1s 3ms/step - loss: 2.4609 - accuracy: 0.1115 - val_loss: 2.4479 - val_accuracy: 0.1059 - lr: 1.5849\n",
            "Epoch 86/100\n",
            "197/197 [==============================] - 1s 3ms/step - loss: 2.4669 - accuracy: 0.1125 - val_loss: 2.7037 - val_accuracy: 0.1144 - lr: 1.7783\n",
            "Epoch 87/100\n",
            "197/197 [==============================] - 1s 3ms/step - loss: 2.4768 - accuracy: 0.1209 - val_loss: 2.5318 - val_accuracy: 0.1116 - lr: 1.9953\n",
            "Epoch 88/100\n",
            "197/197 [==============================] - 1s 3ms/step - loss: 2.4887 - accuracy: 0.1107 - val_loss: 2.7779 - val_accuracy: 0.0973 - lr: 2.2387\n",
            "Epoch 89/100\n",
            "197/197 [==============================] - 1s 3ms/step - loss: 2.5200 - accuracy: 0.1128 - val_loss: 2.5861 - val_accuracy: 0.1302 - lr: 2.5119\n",
            "Epoch 90/100\n",
            "197/197 [==============================] - 1s 3ms/step - loss: 2.5678 - accuracy: 0.1072 - val_loss: 2.6217 - val_accuracy: 0.1302 - lr: 2.8184\n",
            "Epoch 91/100\n",
            "197/197 [==============================] - 1s 3ms/step - loss: 2.6103 - accuracy: 0.1126 - val_loss: 2.4466 - val_accuracy: 0.1302 - lr: 3.1623\n",
            "Epoch 92/100\n",
            "197/197 [==============================] - 1s 3ms/step - loss: 2.6217 - accuracy: 0.1136 - val_loss: 2.6780 - val_accuracy: 0.1059 - lr: 3.5481\n",
            "Epoch 93/100\n",
            "197/197 [==============================] - 1s 3ms/step - loss: 2.7004 - accuracy: 0.1098 - val_loss: 2.5795 - val_accuracy: 0.1116 - lr: 3.9811\n",
            "Epoch 94/100\n",
            "197/197 [==============================] - 1s 3ms/step - loss: 2.6834 - accuracy: 0.1058 - val_loss: 2.5530 - val_accuracy: 0.1116 - lr: 4.4668\n",
            "Epoch 95/100\n",
            "197/197 [==============================] - 1s 3ms/step - loss: 2.7763 - accuracy: 0.1066 - val_loss: 3.1446 - val_accuracy: 0.1059 - lr: 5.0119\n",
            "Epoch 96/100\n",
            "197/197 [==============================] - 1s 3ms/step - loss: 2.7758 - accuracy: 0.1166 - val_loss: 2.8355 - val_accuracy: 0.0415 - lr: 5.6234\n",
            "Epoch 97/100\n",
            "197/197 [==============================] - 1s 3ms/step - loss: 3.0190 - accuracy: 0.1090 - val_loss: 2.7274 - val_accuracy: 0.1059 - lr: 6.3096\n",
            "Epoch 98/100\n",
            "197/197 [==============================] - 1s 3ms/step - loss: 2.8959 - accuracy: 0.1117 - val_loss: 2.8367 - val_accuracy: 0.0973 - lr: 7.0795\n",
            "Epoch 99/100\n",
            "197/197 [==============================] - 1s 3ms/step - loss: 3.0780 - accuracy: 0.1125 - val_loss: 2.5244 - val_accuracy: 0.1144 - lr: 7.9433\n",
            "Epoch 100/100\n",
            "197/197 [==============================] - 1s 3ms/step - loss: 3.2292 - accuracy: 0.1136 - val_loss: 2.8356 - val_accuracy: 0.1144 - lr: 8.9125\n"
          ]
        }
      ]
    },
    {
      "cell_type": "code",
      "source": [
        "epoch = 100\n",
        "lr = 1e-4 * (10**(np.arange(epoch)/20))\n",
        "# plt.figure(figsize=(20,5))\n",
        "plt.semilogx(lr, history1.history['loss'])\n",
        "plt.xlabel(\"Learning Rate\")\n",
        "plt.ylabel(\"Loss\")\n",
        "plt.title(\"Learning rate vs. loss\");\n",
        "plt.show()"
      ],
      "metadata": {
        "colab": {
          "base_uri": "https://localhost:8080/",
          "height": 299
        },
        "id": "_3ktB0_cNihs",
        "outputId": "dbde412d-3a74-4b09-dd8e-06c15a5bf0ac"
      },
      "execution_count": 13,
      "outputs": [
        {
          "output_type": "display_data",
          "data": {
            "text/plain": [
              "<Figure size 432x288 with 1 Axes>"
            ],
            "image/png": "[encoded data removed]"
          },
          "metadata": {
            "needs_background": "light"
          }
        }
      ]
    },
    {
      "cell_type": "code",
      "source": [
        "1# set seed\n",
        "tf.random.set_seed(42)\n",
        "\n",
        "X_INPUT_SHAPE = 40\n",
        "Y_INPUT_SHAPE = 10\n",
        "\n",
        "# create ANN architecture\n",
        "model2 = tf.keras.Sequential([\n",
        "          \n",
        "          #first layer + Dropout\n",
        "          tf.keras.layers.Dense(100, input_shape=(X_INPUT_SHAPE,), activation='relu', name='First_layer'),\n",
        "          tf.keras.layers.Dropout(0.2),\n",
        "\n",
        "          # second layer + Dropout\n",
        "          tf.keras.layers.Dense(200, activation='relu', name='second_layer'),\n",
        "          tf.keras.layers.Dropout(0.2),\n",
        "\n",
        "          # Third layer + Dropout\n",
        "          tf.keras.layers.Dense(200, activation='relu', name='third_layer'),\n",
        "          tf.keras.layers.Dropout(0.2),\n",
        "\n",
        "          # fourth layer\n",
        "          tf.keras.layers.Dense(100, activation='relu', name='fourth_layer'),\n",
        "          tf.keras.layers.Dropout(0.2),\n",
        "\n",
        "          # output layer - one hot y_values\n",
        "          tf.keras.layers.Dense(Y_INPUT_SHAPE, activation='softmax', name='output_layer')\n",
        "])\n",
        "\n",
        "# compile model\n",
        "model2.compile(\n",
        "    loss=tf.keras.losses.categorical_crossentropy,\n",
        "    optimizer=tf.keras.optimizers.Adam(lr=0.001),\n",
        "    metrics=['accuracy']\n",
        ")\n",
        "\n",
        "\n",
        "history2 = model2.fit(X_train, y_train, epochs=50,\n",
        "                      validation_data=(X_val, y_val),\n",
        "                     verbose=1)"
      ],
      "metadata": {
        "colab": {
          "base_uri": "https://localhost:8080/"
        },
        "id": "z8o6gCESN6sl",
        "outputId": "10054fd5-945d-4287-c845-f987f3a4dcf5"
      },
      "execution_count": 14,
      "outputs": [
        {
          "output_type": "stream",
          "name": "stdout",
          "text": [
            "Epoch 1/50\n",
            "197/197 [==============================] - 1s 4ms/step - loss: 3.4745 - accuracy: 0.1810 - val_loss: 2.0444 - val_accuracy: 0.2461\n",
            "Epoch 2/50\n",
            "197/197 [==============================] - 1s 3ms/step - loss: 2.0221 - accuracy: 0.2738 - val_loss: 1.7303 - val_accuracy: 0.3991\n",
            "Epoch 3/50\n",
            "197/197 [==============================] - 1s 3ms/step - loss: 1.7874 - accuracy: 0.3589 - val_loss: 1.5428 - val_accuracy: 0.4621\n",
            "Epoch 4/50\n",
            "197/197 [==============================] - 1s 3ms/step - loss: 1.6109 - accuracy: 0.4314 - val_loss: 1.3874 - val_accuracy: 0.5422\n",
            "Epoch 5/50\n",
            "197/197 [==============================] - 1s 3ms/step - loss: 1.4847 - accuracy: 0.4835 - val_loss: 1.2329 - val_accuracy: 0.5851\n",
            "Epoch 6/50\n",
            "197/197 [==============================] - 1s 3ms/step - loss: 1.3467 - accuracy: 0.5401 - val_loss: 1.1885 - val_accuracy: 0.6195\n",
            "Epoch 7/50\n",
            "197/197 [==============================] - 1s 3ms/step - loss: 1.2638 - accuracy: 0.5795 - val_loss: 1.0647 - val_accuracy: 0.6509\n",
            "Epoch 8/50\n",
            "197/197 [==============================] - 1s 3ms/step - loss: 1.1891 - accuracy: 0.6037 - val_loss: 1.0053 - val_accuracy: 0.6896\n",
            "Epoch 9/50\n",
            "197/197 [==============================] - 1s 3ms/step - loss: 1.1087 - accuracy: 0.6325 - val_loss: 0.9305 - val_accuracy: 0.6881\n",
            "Epoch 10/50\n",
            "197/197 [==============================] - 1s 3ms/step - loss: 1.0506 - accuracy: 0.6518 - val_loss: 0.8888 - val_accuracy: 0.7124\n",
            "Epoch 11/50\n",
            "197/197 [==============================] - 1s 3ms/step - loss: 0.9912 - accuracy: 0.6704 - val_loss: 0.8283 - val_accuracy: 0.7468\n",
            "Epoch 12/50\n",
            "197/197 [==============================] - 1s 3ms/step - loss: 0.9433 - accuracy: 0.6790 - val_loss: 0.8082 - val_accuracy: 0.7411\n",
            "Epoch 13/50\n",
            "197/197 [==============================] - 1s 3ms/step - loss: 0.8995 - accuracy: 0.7038 - val_loss: 0.7643 - val_accuracy: 0.7539\n",
            "Epoch 14/50\n",
            "197/197 [==============================] - 1s 3ms/step - loss: 0.8764 - accuracy: 0.7100 - val_loss: 0.7558 - val_accuracy: 0.7611\n",
            "Epoch 15/50\n",
            "197/197 [==============================] - 1s 3ms/step - loss: 0.8491 - accuracy: 0.7206 - val_loss: 0.7750 - val_accuracy: 0.7654\n",
            "Epoch 16/50\n",
            "197/197 [==============================] - 1s 3ms/step - loss: 0.8239 - accuracy: 0.7214 - val_loss: 0.6829 - val_accuracy: 0.7854\n",
            "Epoch 17/50\n",
            "197/197 [==============================] - 1s 3ms/step - loss: 0.7642 - accuracy: 0.7445 - val_loss: 0.6649 - val_accuracy: 0.7854\n",
            "Epoch 18/50\n",
            "197/197 [==============================] - 1s 3ms/step - loss: 0.7282 - accuracy: 0.7525 - val_loss: 0.6344 - val_accuracy: 0.7926\n",
            "Epoch 19/50\n",
            "197/197 [==============================] - 1s 3ms/step - loss: 0.7289 - accuracy: 0.7606 - val_loss: 0.6090 - val_accuracy: 0.8011\n",
            "Epoch 20/50\n",
            "197/197 [==============================] - 1s 3ms/step - loss: 0.7026 - accuracy: 0.7646 - val_loss: 0.6216 - val_accuracy: 0.8112\n",
            "Epoch 21/50\n",
            "197/197 [==============================] - 1s 3ms/step - loss: 0.6784 - accuracy: 0.7733 - val_loss: 0.5766 - val_accuracy: 0.8183\n",
            "Epoch 22/50\n",
            "197/197 [==============================] - 1s 3ms/step - loss: 0.6605 - accuracy: 0.7800 - val_loss: 0.5884 - val_accuracy: 0.8155\n",
            "Epoch 23/50\n",
            "197/197 [==============================] - 1s 3ms/step - loss: 0.6434 - accuracy: 0.7849 - val_loss: 0.6047 - val_accuracy: 0.8126\n",
            "Epoch 24/50\n",
            "197/197 [==============================] - 1s 3ms/step - loss: 0.6435 - accuracy: 0.7806 - val_loss: 0.5362 - val_accuracy: 0.8255\n",
            "Epoch 25/50\n",
            "197/197 [==============================] - 1s 3ms/step - loss: 0.6313 - accuracy: 0.7911 - val_loss: 0.5693 - val_accuracy: 0.8169\n",
            "Epoch 26/50\n",
            "197/197 [==============================] - 1s 3ms/step - loss: 0.5990 - accuracy: 0.7980 - val_loss: 0.4991 - val_accuracy: 0.8498\n",
            "Epoch 27/50\n",
            "197/197 [==============================] - 1s 3ms/step - loss: 0.5833 - accuracy: 0.8005 - val_loss: 0.5286 - val_accuracy: 0.8383\n",
            "Epoch 28/50\n",
            "197/197 [==============================] - 1s 3ms/step - loss: 0.5878 - accuracy: 0.8061 - val_loss: 0.5038 - val_accuracy: 0.8455\n",
            "Epoch 29/50\n",
            "197/197 [==============================] - 1s 3ms/step - loss: 0.5638 - accuracy: 0.8120 - val_loss: 0.5364 - val_accuracy: 0.8383\n",
            "Epoch 30/50\n",
            "197/197 [==============================] - 1s 3ms/step - loss: 0.5488 - accuracy: 0.8178 - val_loss: 0.5013 - val_accuracy: 0.8455\n",
            "Epoch 31/50\n",
            "197/197 [==============================] - 1s 3ms/step - loss: 0.5340 - accuracy: 0.8180 - val_loss: 0.5334 - val_accuracy: 0.8512\n",
            "Epoch 32/50\n",
            "197/197 [==============================] - 1s 3ms/step - loss: 0.5293 - accuracy: 0.8204 - val_loss: 0.5215 - val_accuracy: 0.8512\n",
            "Epoch 33/50\n",
            "197/197 [==============================] - 1s 3ms/step - loss: 0.5265 - accuracy: 0.8242 - val_loss: 0.5535 - val_accuracy: 0.8441\n",
            "Epoch 34/50\n",
            "197/197 [==============================] - 1s 3ms/step - loss: 0.5268 - accuracy: 0.8250 - val_loss: 0.5257 - val_accuracy: 0.8398\n",
            "Epoch 35/50\n",
            "197/197 [==============================] - 1s 3ms/step - loss: 0.5052 - accuracy: 0.8325 - val_loss: 0.5110 - val_accuracy: 0.8541\n",
            "Epoch 36/50\n",
            "197/197 [==============================] - 1s 3ms/step - loss: 0.5133 - accuracy: 0.8298 - val_loss: 0.4931 - val_accuracy: 0.8555\n",
            "Epoch 37/50\n",
            "197/197 [==============================] - 1s 3ms/step - loss: 0.5005 - accuracy: 0.8328 - val_loss: 0.4606 - val_accuracy: 0.8641\n",
            "Epoch 38/50\n",
            "197/197 [==============================] - 1s 3ms/step - loss: 0.4886 - accuracy: 0.8377 - val_loss: 0.5382 - val_accuracy: 0.8398\n",
            "Epoch 39/50\n",
            "197/197 [==============================] - 1s 3ms/step - loss: 0.4924 - accuracy: 0.8350 - val_loss: 0.4928 - val_accuracy: 0.8584\n",
            "Epoch 40/50\n",
            "197/197 [==============================] - 1s 3ms/step - loss: 0.4766 - accuracy: 0.8458 - val_loss: 0.4561 - val_accuracy: 0.8641\n",
            "Epoch 41/50\n",
            "197/197 [==============================] - 1s 3ms/step - loss: 0.4670 - accuracy: 0.8438 - val_loss: 0.4648 - val_accuracy: 0.8741\n",
            "Epoch 42/50\n",
            "197/197 [==============================] - 1s 3ms/step - loss: 0.4664 - accuracy: 0.8454 - val_loss: 0.4443 - val_accuracy: 0.8784\n",
            "Epoch 43/50\n",
            "197/197 [==============================] - 1s 3ms/step - loss: 0.4385 - accuracy: 0.8517 - val_loss: 0.5016 - val_accuracy: 0.8727\n",
            "Epoch 44/50\n",
            "197/197 [==============================] - 1s 3ms/step - loss: 0.4587 - accuracy: 0.8457 - val_loss: 0.4655 - val_accuracy: 0.8670\n",
            "Epoch 45/50\n",
            "197/197 [==============================] - 1s 3ms/step - loss: 0.4521 - accuracy: 0.8493 - val_loss: 0.4466 - val_accuracy: 0.8770\n",
            "Epoch 46/50\n",
            "197/197 [==============================] - 1s 3ms/step - loss: 0.4315 - accuracy: 0.8552 - val_loss: 0.4748 - val_accuracy: 0.8627\n",
            "Epoch 47/50\n",
            "197/197 [==============================] - 1s 3ms/step - loss: 0.4197 - accuracy: 0.8619 - val_loss: 0.4652 - val_accuracy: 0.8684\n",
            "Epoch 48/50\n",
            "197/197 [==============================] - 1s 3ms/step - loss: 0.4117 - accuracy: 0.8643 - val_loss: 0.4367 - val_accuracy: 0.8813\n",
            "Epoch 49/50\n",
            "197/197 [==============================] - 1s 3ms/step - loss: 0.4257 - accuracy: 0.8576 - val_loss: 0.4198 - val_accuracy: 0.8870\n",
            "Epoch 50/50\n",
            "197/197 [==============================] - 1s 3ms/step - loss: 0.4183 - accuracy: 0.8618 - val_loss: 0.4353 - val_accuracy: 0.8712\n"
          ]
        }
      ]
    },
    {
      "cell_type": "code",
      "source": [
        "model2.evaluate(X_test, y_test)"
      ],
      "metadata": {
        "colab": {
          "base_uri": "https://localhost:8080/"
        },
        "id": "Wv_WIjlmyj2a",
        "outputId": "05369e6a-fdfb-41fd-d041-b8f2227234a0"
      },
      "execution_count": 15,
      "outputs": [
        {
          "output_type": "stream",
          "name": "stdout",
          "text": [
            "55/55 [==============================] - 0s 2ms/step - loss: 0.3961 - accuracy: 0.8672\n"
          ]
        },
        {
          "output_type": "execute_result",
          "data": {
            "text/plain": [
              "[0.39607784152030945, 0.8672009110450745]"
            ]
          },
          "metadata": {},
          "execution_count": 15
        }
      ]
    },
    {
      "cell_type": "code",
      "source": [
        "# metrics curve \n",
        "pd.DataFrame(history2.history).plot()\n",
        "plt.xlabel('Epochs')\n",
        "plt.ylabel('loss')\n",
        "plt.grid(True)\n",
        "plt.title('Metrics Curve')\n",
        "plt.legend()\n",
        "plt.show()"
      ],
      "metadata": {
        "colab": {
          "base_uri": "https://localhost:8080/",
          "height": 295
        },
        "id": "UED9Z0vVxM_x",
        "outputId": "524f7d35-16c9-46c9-aeb2-1a5e2efbc9ef"
      },
      "execution_count": 16,
      "outputs": [
        {
          "output_type": "display_data",
          "data": {
            "text/plain": [
              "<Figure size 432x288 with 1 Axes>"
            ],
            "image/png": "[encoded data removed]"
          },
          "metadata": {
            "needs_background": "light"
          }
        }
      ]
    },
    {
      "cell_type": "code",
      "source": [
        "# confusion metrics\n",
        "\n",
        "# make prediction\n",
        "y_pred = tf.round(model2.predict(X_test))\n",
        "\n",
        "\n",
        "# create confusion metrics\n",
        "metric = cm(np.asarray(y_test).argmax(axis=1), np.asarray(y_pred).argmax(axis=1))\n",
        "\n",
        "labels = ['air_conditioner','car_horn','children_playing','dog_bark',\n",
        "          'drilling','engine_idling','gun_shot','jackhammer','siren',\n",
        "          'street_music']\n",
        "\n",
        "plt.figure(figsize=(10,10))\n",
        "disp = ConfusionMatrixDisplay(metric, display_labels=labels)\n",
        "\n",
        "fig, ax = plt.subplots(figsize=(10,10))\n",
        "disp.plot(ax=ax, cmap='inferno')\n",
        "plt.title('confusion matrix')\n",
        "plt.xticks(rotation=90)\n",
        "plt.tight_layout()\n",
        "plt.show()"
      ],
      "metadata": {
        "colab": {
          "base_uri": "https://localhost:8080/",
          "height": 711
        },
        "id": "Czbblkhjx476",
        "outputId": "68ed18ce-f528-4487-e048-3205a0f1e1a5"
      },
      "execution_count": 17,
      "outputs": [
        {
          "output_type": "display_data",
          "data": {
            "text/plain": [
              "<Figure size 720x720 with 0 Axes>"
            ]
          },
          "metadata": {}
        },
        {
          "output_type": "display_data",
          "data": {
            "text/plain": [
              "<Figure size 720x720 with 2 Axes>"
            ],
            "image/png": "[encoded data removed]"
          },
          "metadata": {
            "needs_background": "light"
          }
        }
      ]
    },
    {
      "cell_type": "code",
      "source": [
        "model2.save('raw_extract_model.h5')"
      ],
      "metadata": {
        "id": "nSvvrL9-QtIK"
      },
      "execution_count": 18,
      "outputs": []
    },
    {
      "cell_type": "markdown",
      "source": [
        "### Model Build with raw extract statistics"
      ],
      "metadata": {
        "id": "NOEdyOW_vEQz"
      }
    },
    {
      "cell_type": "code",
      "source": [
        "# Train for dataset on stats values\n",
        "data = pd.read_csv('https://raw.githubusercontent.com/Bee0933/UrbanSound8k/dev-branch/csv/extracted-MFCC-features.csv')\n",
        "df = data.copy()\n",
        "df = df.drop(['Unnamed: 0'], axis=1)\n",
        "df.head()"
      ],
      "metadata": {
        "id": "CdM0j2JuFE_y",
        "colab": {
          "base_uri": "https://localhost:8080/",
          "height": 206
        },
        "outputId": "79765c94-d651-4fc2-b756-7695f7ea0b27"
      },
      "execution_count": 19,
      "outputs": [
        {
          "output_type": "execute_result",
          "data": {
            "text/plain": [
              "   min_value   max_value        std      mean    median      skew   kurtosis  \\\n",
              "0 -121.55058   65.455340  24.580328 -2.251908 -0.704169 -2.281909  12.540225   \n",
              "1 -126.84716  115.877540  31.312760 -0.769311  0.445877 -0.430298   8.797351   \n",
              "2 -252.96980  167.191250  48.798847 -2.647705  0.021331 -2.326509  17.988012   \n",
              "3 -132.81130   55.071160  26.491137  1.429906  2.026098 -2.966784  14.084645   \n",
              "4 -264.63226   40.243603  45.578290 -8.555743 -3.226343 -4.335254  22.043105   \n",
              "\n",
              "     labels  \n",
              "0  car_horn  \n",
              "1  car_horn  \n",
              "2  car_horn  \n",
              "3  car_horn  \n",
              "4  car_horn  "
            ],
            "text/html": [
              "\n",
              "  <div id=\"df-d41317f6-8634-4ea2-a564-c51d9231550a\">\n",
              "    <div class=\"colab-df-container\">\n",
              "      <div>\n",
              "<style scoped>\n",
              "    .dataframe tbody tr th:only-of-type {\n",
              "        vertical-align: middle;\n",
              "    }\n",
              "\n",
              "    .dataframe tbody tr th {\n",
              "        vertical-align: top;\n",
              "    }\n",
              "\n",
              "    .dataframe thead th {\n",
              "        text-align: right;\n",
              "    }\n",
              "</style>\n",
              "<table border=\"1\" class=\"dataframe\">\n",
              "  <thead>\n",
              "    <tr style=\"text-align: right;\">\n",
              "      <th></th>\n",
              "      <th>min_value</th>\n",
              "      <th>max_value</th>\n",
              "      <th>std</th>\n",
              "      <th>mean</th>\n",
              "      <th>median</th>\n",
              "      <th>skew</th>\n",
              "      <th>kurtosis</th>\n",
              "      <th>labels</th>\n",
              "    </tr>\n",
              "  </thead>\n",
              "  <tbody>\n",
              "    <tr>\n",
              "      <th>0</th>\n",
              "      <td>-121.55058</td>\n",
              "      <td>65.455340</td>\n",
              "      <td>24.580328</td>\n",
              "      <td>-2.251908</td>\n",
              "      <td>-0.704169</td>\n",
              "      <td>-2.281909</td>\n",
              "      <td>12.540225</td>\n",
              "      <td>car_horn</td>\n",
              "    </tr>\n",
              "    <tr>\n",
              "      <th>1</th>\n",
              "      <td>-126.84716</td>\n",
              "      <td>115.877540</td>\n",
              "      <td>31.312760</td>\n",
              "      <td>-0.769311</td>\n",
              "      <td>0.445877</td>\n",
              "      <td>-0.430298</td>\n",
              "      <td>8.797351</td>\n",
              "      <td>car_horn</td>\n",
              "    </tr>\n",
              "    <tr>\n",
              "      <th>2</th>\n",
              "      <td>-252.96980</td>\n",
              "      <td>167.191250</td>\n",
              "      <td>48.798847</td>\n",
              "      <td>-2.647705</td>\n",
              "      <td>0.021331</td>\n",
              "      <td>-2.326509</td>\n",
              "      <td>17.988012</td>\n",
              "      <td>car_horn</td>\n",
              "    </tr>\n",
              "    <tr>\n",
              "      <th>3</th>\n",
              "      <td>-132.81130</td>\n",
              "      <td>55.071160</td>\n",
              "      <td>26.491137</td>\n",
              "      <td>1.429906</td>\n",
              "      <td>2.026098</td>\n",
              "      <td>-2.966784</td>\n",
              "      <td>14.084645</td>\n",
              "      <td>car_horn</td>\n",
              "    </tr>\n",
              "    <tr>\n",
              "      <th>4</th>\n",
              "      <td>-264.63226</td>\n",
              "      <td>40.243603</td>\n",
              "      <td>45.578290</td>\n",
              "      <td>-8.555743</td>\n",
              "      <td>-3.226343</td>\n",
              "      <td>-4.335254</td>\n",
              "      <td>22.043105</td>\n",
              "      <td>car_horn</td>\n",
              "    </tr>\n",
              "  </tbody>\n",
              "</table>\n",
              "</div>\n",
              "      <button class=\"colab-df-convert\" onclick=\"convertToInteractive('df-d41317f6-8634-4ea2-a564-c51d9231550a')\"\n",
              "              title=\"Convert this dataframe to an interactive table.\"\n",
              "              style=\"display:none;\">\n",
              "        \n",
              "  <svg xmlns=\"http://www.w3.org/2000/svg\" height=\"24px\"viewBox=\"0 0 24 24\"\n",
              "       width=\"24px\">\n",
              "    <path d=\"M0 0h24v24H0V0z\" fill=\"none\"/>\n",
              "    <path d=\"M18.56 5.44l.94 2.06.94-2.06 2.06-.94-2.06-.94-.94-2.06-.94 2.06-2.06.94zm-11 1L8.5 8.5l.94-2.06 2.06-.94-2.06-.94L8.5 2.5l-.94 2.06-2.06.94zm10 10l.94 2.06.94-2.06 2.06-.94-2.06-.94-.94-2.06-.94 2.06-2.06.94z\"/><path d=\"M17.41 7.96l-1.37-1.37c-.4-.4-.92-.59-1.43-.59-.52 0-1.04.2-1.43.59L10.3 9.45l-7.72 7.72c-.78.78-.78 2.05 0 2.83L4 21.41c.39.39.9.59 1.41.59.51 0 1.02-.2 1.41-.59l7.78-7.78 2.81-2.81c.8-.78.8-2.07 0-2.86zM5.41 20L4 18.59l7.72-7.72 1.47 1.35L5.41 20z\"/>\n",
              "  </svg>\n",
              "      </button>\n",
              "      \n",
              "  <style>\n",
              "    .colab-df-container {\n",
              "      display:flex;\n",
              "      flex-wrap:wrap;\n",
              "      gap: 12px;\n",
              "    }\n",
              "\n",
              "    .colab-df-convert {\n",
              "      background-color: #E8F0FE;\n",
              "      border: none;\n",
              "      border-radius: 50%;\n",
              "      cursor: pointer;\n",
              "      display: none;\n",
              "      fill: #1967D2;\n",
              "      height: 32px;\n",
              "      padding: 0 0 0 0;\n",
              "      width: 32px;\n",
              "    }\n",
              "\n",
              "    .colab-df-convert:hover {\n",
              "      background-color: #E2EBFA;\n",
              "      box-shadow: 0px 1px 2px rgba(60, 64, 67, 0.3), 0px 1px 3px 1px rgba(60, 64, 67, 0.15);\n",
              "      fill: #174EA6;\n",
              "    }\n",
              "\n",
              "    [theme=dark] .colab-df-convert {\n",
              "      background-color: #3B4455;\n",
              "      fill: #D2E3FC;\n",
              "    }\n",
              "\n",
              "    [theme=dark] .colab-df-convert:hover {\n",
              "      background-color: #434B5C;\n",
              "      box-shadow: 0px 1px 3px 1px rgba(0, 0, 0, 0.15);\n",
              "      filter: drop-shadow(0px 1px 2px rgba(0, 0, 0, 0.3));\n",
              "      fill: #FFFFFF;\n",
              "    }\n",
              "  </style>\n",
              "\n",
              "      <script>\n",
              "        const buttonEl =\n",
              "          document.querySelector('#df-d41317f6-8634-4ea2-a564-c51d9231550a button.colab-df-convert');\n",
              "        buttonEl.style.display =\n",
              "          google.colab.kernel.accessAllowed ? 'block' : 'none';\n",
              "\n",
              "        async function convertToInteractive(key) {\n",
              "          const element = document.querySelector('#df-d41317f6-8634-4ea2-a564-c51d9231550a');\n",
              "          const dataTable =\n",
              "            await google.colab.kernel.invokeFunction('convertToInteractive',\n",
              "                                                     [key], {});\n",
              "          if (!dataTable) return;\n",
              "\n",
              "          const docLinkHtml = 'Like what you see? Visit the ' +\n",
              "            '<a target=\"_blank\" href=https://colab.research.google.com/notebooks/data_table.ipynb>data table notebook</a>'\n",
              "            + ' to learn more about interactive tables.';\n",
              "          element.innerHTML = '';\n",
              "          dataTable['output_type'] = 'display_data';\n",
              "          await google.colab.output.renderOutput(dataTable, element);\n",
              "          const docLink = document.createElement('div');\n",
              "          docLink.innerHTML = docLinkHtml;\n",
              "          element.appendChild(docLink);\n",
              "        }\n",
              "      </script>\n",
              "    </div>\n",
              "  </div>\n",
              "  "
            ]
          },
          "metadata": {},
          "execution_count": 19
        }
      ]
    },
    {
      "cell_type": "code",
      "source": [
        "df['labels'].value_counts().plot(kind='barh'); plt.grid(True); plt.title('Class values distribution'); plt.tight_layout()"
      ],
      "metadata": {
        "colab": {
          "base_uri": "https://localhost:8080/",
          "height": 297
        },
        "id": "dwpiRusm4Mw_",
        "outputId": "cbbf4f40-7236-4440-ebfb-43ea8ce913ea"
      },
      "execution_count": 20,
      "outputs": [
        {
          "output_type": "display_data",
          "data": {
            "text/plain": [
              "<Figure size 432x288 with 1 Axes>"
            ],
            "image/png": "[encoded data removed]"
          },
          "metadata": {
            "needs_background": "light"
          }
        }
      ]
    },
    {
      "cell_type": "code",
      "source": [
        "X_val = df.drop('labels', axis=1)\n",
        "y_val = df.labels \n",
        "X_val.info()"
      ],
      "metadata": {
        "colab": {
          "base_uri": "https://localhost:8080/"
        },
        "id": "n9P8KYPV5EO7",
        "outputId": "3a12350e-7aff-4406-b05f-2242ab484bed"
      },
      "execution_count": 48,
      "outputs": [
        {
          "output_type": "stream",
          "name": "stdout",
          "text": [
            "<class 'pandas.core.frame.DataFrame'>\n",
            "RangeIndex: 8732 entries, 0 to 8731\n",
            "Data columns (total 7 columns):\n",
            " #   Column     Non-Null Count  Dtype  \n",
            "---  ------     --------------  -----  \n",
            " 0   min_value  8732 non-null   float64\n",
            " 1   max_value  8732 non-null   float64\n",
            " 2   std        8732 non-null   float64\n",
            " 3   mean       8732 non-null   float64\n",
            " 4   median     8732 non-null   float64\n",
            " 5   skew       8732 non-null   float64\n",
            " 6   kurtosis   8732 non-null   float64\n",
            "dtypes: float64(7)\n",
            "memory usage: 477.7 KB\n"
          ]
        }
      ]
    },
    {
      "cell_type": "code",
      "source": [
        "# encode y labels\n",
        "le = LabelEncoder()\n",
        "y_encoded = le.fit_transform(y_val)\n",
        "mappings = {index: label for index, label in enumerate(le.classes_)}\n",
        "print('encoded data mapping')\n",
        "print(mappings)\n",
        "print('\\n \\n')\n",
        "\n",
        "print('one hot encoded')\n",
        "y_encoded = to_categorical(y_encoded)\n",
        "y_encoded, y_encoded.shape"
      ],
      "metadata": {
        "colab": {
          "base_uri": "https://localhost:8080/"
        },
        "id": "iyYtjodi8CC2",
        "outputId": "19925414-e1c1-4a18-fa7c-0e98ba23ab4e"
      },
      "execution_count": 49,
      "outputs": [
        {
          "output_type": "stream",
          "name": "stdout",
          "text": [
            "encoded data mapping\n",
            "{0: 'air_conditioner', 1: 'car_horn', 2: 'children_playing', 3: 'dog_bark', 4: 'drilling', 5: 'engine_idling', 6: 'gun_shot', 7: 'jackhammer', 8: 'siren', 9: 'street_music'}\n",
            "\n",
            " \n",
            "\n",
            "one hot encoded\n"
          ]
        },
        {
          "output_type": "execute_result",
          "data": {
            "text/plain": [
              "(array([[0., 1., 0., ..., 0., 0., 0.],\n",
              "        [0., 1., 0., ..., 0., 0., 0.],\n",
              "        [0., 1., 0., ..., 0., 0., 0.],\n",
              "        ...,\n",
              "        [0., 0., 0., ..., 0., 0., 0.],\n",
              "        [0., 0., 0., ..., 0., 0., 0.],\n",
              "        [0., 0., 0., ..., 0., 0., 0.]], dtype=float32), (8732, 10))"
            ]
          },
          "metadata": {},
          "execution_count": 49
        }
      ]
    },
    {
      "cell_type": "code",
      "source": [
        "# scale X data\n",
        "scaler = MinMaxScaler()\n",
        "X_scaled = scaler.fit_transform(X_val)"
      ],
      "metadata": {
        "id": "E89F2nuH8lIR"
      },
      "execution_count": 50,
      "outputs": []
    },
    {
      "cell_type": "code",
      "source": [
        "X_scaled, X_scaled.dtype"
      ],
      "metadata": {
        "colab": {
          "base_uri": "https://localhost:8080/"
        },
        "id": "ZUce9v4c87ax",
        "outputId": "03a8e625-215f-433d-f8b0-8f54d06af273"
      },
      "execution_count": 51,
      "outputs": [
        {
          "output_type": "execute_result",
          "data": {
            "text/plain": [
              "(array([[0.85717715, 0.22204604, 0.13115208, ..., 0.52179813, 0.342779  ,\n",
              "         0.34442291],\n",
              "        [0.85014715, 0.40781745, 0.19013373, ..., 0.57110809, 0.51017155,\n",
              "         0.23486659],\n",
              "        [0.68274807, 0.59687347, 0.34332627, ..., 0.55290502, 0.33874704,\n",
              "         0.50388315],\n",
              "        ...,\n",
              "        [0.93324044, 0.14256563, 0.0542996 , ..., 0.48160861, 0.47357315,\n",
              "         0.14068341],\n",
              "        [0.78106723, 0.54843449, 0.2525794 , ..., 0.44166785, 0.47810166,\n",
              "         0.41861239],\n",
              "        [0.81287305, 0.37259353, 0.19555347, ..., 0.55139501, 0.38966664,\n",
              "         0.37657851]]), dtype('float64'))"
            ]
          },
          "metadata": {},
          "execution_count": 51
        }
      ]
    },
    {
      "cell_type": "code",
      "source": [
        "X_scaled.shape, y_encoded.shape"
      ],
      "metadata": {
        "colab": {
          "base_uri": "https://localhost:8080/"
        },
        "id": "m5fXShIv89P9",
        "outputId": "6a97dbb2-68c4-4f8b-d5e4-d3e2a8e74ed5"
      },
      "execution_count": 47,
      "outputs": [
        {
          "output_type": "execute_result",
          "data": {
            "text/plain": [
              "((8732, 7), (8732, 10))"
            ]
          },
          "metadata": {},
          "execution_count": 47
        }
      ]
    },
    {
      "cell_type": "code",
      "source": [
        "X_train, X_test, y_train, y_test = train_test_split(X_scaled,y_encoded, test_size=0.2,\n",
        "                                                    random_state=0)\n",
        "X_train, X_val, y_train, y_val = train_test_split(X_train,y_train, test_size=0.1,\n",
        "                                                  random_state=0)\n",
        "X_train.shape, X_test.shape, y_train.shape, y_test.shape"
      ],
      "metadata": {
        "colab": {
          "base_uri": "https://localhost:8080/"
        },
        "id": "twpLQbTS9Ok7",
        "outputId": "7e96f809-b9e2-4539-de7a-11929362e761"
      },
      "execution_count": 52,
      "outputs": [
        {
          "output_type": "execute_result",
          "data": {
            "text/plain": [
              "((6286, 7), (1747, 7), (6286, 10), (1747, 10))"
            ]
          },
          "metadata": {},
          "execution_count": 52
        }
      ]
    },
    {
      "cell_type": "code",
      "source": [
        "# Build Artificial Neural Network \n",
        "\n",
        "# set seed\n",
        "tf.random.set_seed(42)\n",
        "\n",
        "X_INPUT_SHAPE = 7\n",
        "Y_INPUT_SHAPE = 10\n",
        "\n",
        "# create ANN architecture\n",
        "model3 = tf.keras.Sequential([\n",
        "          \n",
        "          #first layer + Dropout\n",
        "          tf.keras.layers.Dense(100, input_shape=(X_INPUT_SHAPE,), activation='relu', name='First_layer'),\n",
        "          tf.keras.layers.Dropout(0.2),\n",
        "\n",
        "          # second layer + Dropout\n",
        "          tf.keras.layers.Dense(200, activation='relu', name='second_layer'),\n",
        "          tf.keras.layers.Dropout(0.2),\n",
        "\n",
        "          # Third layer + Dropout\n",
        "          tf.keras.layers.Dense(200, activation='relu', name='third_layer'),\n",
        "          tf.keras.layers.Dropout(0.2),\n",
        "\n",
        "          # fourth layer\n",
        "          tf.keras.layers.Dense(100, activation='relu', name='fourth_layer'),\n",
        "          tf.keras.layers.Dropout(0.2),\n",
        "\n",
        "          # output layer - one hot y_values\n",
        "          tf.keras.layers.Dense(Y_INPUT_SHAPE, activation='softmax', name='output_layer')\n",
        "])\n",
        "\n",
        "# compile model\n",
        "model3.compile(\n",
        "    loss=tf.keras.losses.categorical_crossentropy,\n",
        "    optimizer=tf.keras.optimizers.Adam(),\n",
        "    metrics=['accuracy']\n",
        ")\n",
        "\n",
        "# lr scheduler\n",
        "lr_scheduler = tf.keras.callbacks.LearningRateScheduler(lambda epoch: 1e-4 * (10**(epoch/20)))"
      ],
      "metadata": {
        "id": "R9LLSdun9a9O"
      },
      "execution_count": 27,
      "outputs": []
    },
    {
      "cell_type": "code",
      "source": [
        "model3.summary()"
      ],
      "metadata": {
        "colab": {
          "base_uri": "https://localhost:8080/"
        },
        "id": "DhfNifGK91o2",
        "outputId": "c11677c4-4658-4fe0-90b3-e402221aaf86"
      },
      "execution_count": 28,
      "outputs": [
        {
          "output_type": "stream",
          "name": "stdout",
          "text": [
            "Model: \"sequential_2\"\n",
            "_________________________________________________________________\n",
            " Layer (type)                Output Shape              Param #   \n",
            "=================================================================\n",
            " First_layer (Dense)         (None, 100)               800       \n",
            "                                                                 \n",
            " dropout_8 (Dropout)         (None, 100)               0         \n",
            "                                                                 \n",
            " second_layer (Dense)        (None, 200)               20200     \n",
            "                                                                 \n",
            " dropout_9 (Dropout)         (None, 200)               0         \n",
            "                                                                 \n",
            " third_layer (Dense)         (None, 200)               40200     \n",
            "                                                                 \n",
            " dropout_10 (Dropout)        (None, 200)               0         \n",
            "                                                                 \n",
            " fourth_layer (Dense)        (None, 100)               20100     \n",
            "                                                                 \n",
            " dropout_11 (Dropout)        (None, 100)               0         \n",
            "                                                                 \n",
            " output_layer (Dense)        (None, 10)                1010      \n",
            "                                                                 \n",
            "=================================================================\n",
            "Total params: 82,310\n",
            "Trainable params: 82,310\n",
            "Non-trainable params: 0\n",
            "_________________________________________________________________\n"
          ]
        }
      ]
    },
    {
      "cell_type": "code",
      "source": [
        "plot_model(model=model1, show_shapes=True, show_layer_activations=True)"
      ],
      "metadata": {
        "colab": {
          "base_uri": "https://localhost:8080/",
          "height": 1000
        },
        "id": "3OtYwQcb-CgZ",
        "outputId": "46d78748-df69-4925-dcaf-71998d2c1d94"
      },
      "execution_count": 29,
      "outputs": [
        {
          "output_type": "execute_result",
          "data": {
            "text/plain": [
              "<IPython.core.display.Image object>"
            ],
            "image/png": "[encoded data removed]"
          },
          "metadata": {},
          "execution_count": 29
        }
      ]
    },
    {
      "cell_type": "code",
      "source": [
        "history3 = model3.fit(X_train, y_train, epochs=100,\n",
        "                      validation_data=(X_val,y_val),\n",
        "                      callbacks=[lr_scheduler],verbose=1)"
      ],
      "metadata": {
        "colab": {
          "base_uri": "https://localhost:8080/"
        },
        "id": "6P530hi6-HrK",
        "outputId": "7b925dda-a9a7-4ac7-e39c-d664ba06f44a"
      },
      "execution_count": 30,
      "outputs": [
        {
          "output_type": "stream",
          "name": "stdout",
          "text": [
            "Epoch 1/100\n",
            "197/197 [==============================] - 1s 4ms/step - loss: 2.2778 - accuracy: 0.1252 - val_loss: 2.2346 - val_accuracy: 0.2074 - lr: 1.0000e-04\n",
            "Epoch 2/100\n",
            "197/197 [==============================] - 1s 3ms/step - loss: 2.1966 - accuracy: 0.1928 - val_loss: 2.1164 - val_accuracy: 0.1989 - lr: 1.1220e-04\n",
            "Epoch 3/100\n",
            "197/197 [==============================] - 1s 3ms/step - loss: 2.0955 - accuracy: 0.2151 - val_loss: 2.0251 - val_accuracy: 0.2160 - lr: 1.2589e-04\n",
            "Epoch 4/100\n",
            "197/197 [==============================] - 1s 3ms/step - loss: 2.0391 - accuracy: 0.2321 - val_loss: 1.9926 - val_accuracy: 0.2303 - lr: 1.4125e-04\n",
            "Epoch 5/100\n",
            "197/197 [==============================] - 1s 3ms/step - loss: 2.0069 - accuracy: 0.2458 - val_loss: 1.9396 - val_accuracy: 0.2904 - lr: 1.5849e-04\n",
            "Epoch 6/100\n",
            "197/197 [==============================] - 1s 3ms/step - loss: 1.9818 - accuracy: 0.2563 - val_loss: 1.9129 - val_accuracy: 0.2947 - lr: 1.7783e-04\n",
            "Epoch 7/100\n",
            "197/197 [==============================] - 1s 3ms/step - loss: 1.9508 - accuracy: 0.2693 - val_loss: 1.8802 - val_accuracy: 0.3133 - lr: 1.9953e-04\n",
            "Epoch 8/100\n",
            "197/197 [==============================] - 1s 3ms/step - loss: 1.9416 - accuracy: 0.2677 - val_loss: 1.8622 - val_accuracy: 0.3391 - lr: 2.2387e-04\n",
            "Epoch 9/100\n",
            "197/197 [==============================] - 1s 3ms/step - loss: 1.9125 - accuracy: 0.2899 - val_loss: 1.8448 - val_accuracy: 0.3333 - lr: 2.5119e-04\n",
            "Epoch 10/100\n",
            "197/197 [==============================] - 1s 3ms/step - loss: 1.8939 - accuracy: 0.2961 - val_loss: 1.8209 - val_accuracy: 0.3147 - lr: 2.8184e-04\n",
            "Epoch 11/100\n",
            "197/197 [==============================] - 1s 3ms/step - loss: 1.8679 - accuracy: 0.3131 - val_loss: 1.7924 - val_accuracy: 0.3476 - lr: 3.1623e-04\n",
            "Epoch 12/100\n",
            "197/197 [==============================] - 1s 3ms/step - loss: 1.8432 - accuracy: 0.3228 - val_loss: 1.7687 - val_accuracy: 0.3605 - lr: 3.5481e-04\n",
            "Epoch 13/100\n",
            "197/197 [==============================] - 1s 3ms/step - loss: 1.8152 - accuracy: 0.3304 - val_loss: 1.7736 - val_accuracy: 0.3519 - lr: 3.9811e-04\n",
            "Epoch 14/100\n",
            "197/197 [==============================] - 1s 3ms/step - loss: 1.8006 - accuracy: 0.3417 - val_loss: 1.7291 - val_accuracy: 0.3720 - lr: 4.4668e-04\n",
            "Epoch 15/100\n",
            "197/197 [==============================] - 1s 3ms/step - loss: 1.7804 - accuracy: 0.3517 - val_loss: 1.7241 - val_accuracy: 0.3791 - lr: 5.0119e-04\n",
            "Epoch 16/100\n",
            "197/197 [==============================] - 1s 3ms/step - loss: 1.7676 - accuracy: 0.3505 - val_loss: 1.7104 - val_accuracy: 0.3748 - lr: 5.6234e-04\n",
            "Epoch 17/100\n",
            "197/197 [==============================] - 1s 3ms/step - loss: 1.7400 - accuracy: 0.3681 - val_loss: 1.6973 - val_accuracy: 0.3791 - lr: 6.3096e-04\n",
            "Epoch 18/100\n",
            "197/197 [==============================] - 1s 3ms/step - loss: 1.7349 - accuracy: 0.3751 - val_loss: 1.6748 - val_accuracy: 0.4077 - lr: 7.0795e-04\n",
            "Epoch 19/100\n",
            "197/197 [==============================] - 1s 3ms/step - loss: 1.7086 - accuracy: 0.3804 - val_loss: 1.6498 - val_accuracy: 0.4006 - lr: 7.9433e-04\n",
            "Epoch 20/100\n",
            "197/197 [==============================] - 1s 3ms/step - loss: 1.6940 - accuracy: 0.3828 - val_loss: 1.6353 - val_accuracy: 0.4077 - lr: 8.9125e-04\n",
            "Epoch 21/100\n",
            "197/197 [==============================] - 1s 3ms/step - loss: 1.6813 - accuracy: 0.3907 - val_loss: 1.6081 - val_accuracy: 0.4077 - lr: 0.0010\n",
            "Epoch 22/100\n",
            "197/197 [==============================] - 1s 3ms/step - loss: 1.6649 - accuracy: 0.3987 - val_loss: 1.6412 - val_accuracy: 0.4092 - lr: 0.0011\n",
            "Epoch 23/100\n",
            "197/197 [==============================] - 1s 3ms/step - loss: 1.6674 - accuracy: 0.3980 - val_loss: 1.6041 - val_accuracy: 0.4292 - lr: 0.0013\n",
            "Epoch 24/100\n",
            "197/197 [==============================] - 1s 3ms/step - loss: 1.6553 - accuracy: 0.3971 - val_loss: 1.5632 - val_accuracy: 0.4607 - lr: 0.0014\n",
            "Epoch 25/100\n",
            "197/197 [==============================] - 1s 3ms/step - loss: 1.6391 - accuracy: 0.4095 - val_loss: 1.5519 - val_accuracy: 0.4607 - lr: 0.0016\n",
            "Epoch 26/100\n",
            "197/197 [==============================] - 1s 3ms/step - loss: 1.6335 - accuracy: 0.4149 - val_loss: 1.5546 - val_accuracy: 0.4378 - lr: 0.0018\n",
            "Epoch 27/100\n",
            "197/197 [==============================] - 1s 3ms/step - loss: 1.6321 - accuracy: 0.4109 - val_loss: 1.5504 - val_accuracy: 0.4635 - lr: 0.0020\n",
            "Epoch 28/100\n",
            "197/197 [==============================] - 1s 3ms/step - loss: 1.6253 - accuracy: 0.4147 - val_loss: 1.5430 - val_accuracy: 0.4664 - lr: 0.0022\n",
            "Epoch 29/100\n",
            "197/197 [==============================] - 1s 3ms/step - loss: 1.6334 - accuracy: 0.4174 - val_loss: 1.5529 - val_accuracy: 0.4607 - lr: 0.0025\n",
            "Epoch 30/100\n",
            "197/197 [==============================] - 1s 3ms/step - loss: 1.6291 - accuracy: 0.4136 - val_loss: 1.5622 - val_accuracy: 0.4478 - lr: 0.0028\n",
            "Epoch 31/100\n",
            "197/197 [==============================] - 1s 3ms/step - loss: 1.6400 - accuracy: 0.4058 - val_loss: 1.5746 - val_accuracy: 0.4435 - lr: 0.0032\n",
            "Epoch 32/100\n",
            "197/197 [==============================] - 1s 3ms/step - loss: 1.6473 - accuracy: 0.4076 - val_loss: 1.5149 - val_accuracy: 0.4478 - lr: 0.0035\n",
            "Epoch 33/100\n",
            "197/197 [==============================] - 1s 3ms/step - loss: 1.6458 - accuracy: 0.4041 - val_loss: 1.6205 - val_accuracy: 0.4306 - lr: 0.0040\n",
            "Epoch 34/100\n",
            "197/197 [==============================] - 1s 3ms/step - loss: 1.7037 - accuracy: 0.3863 - val_loss: 1.6498 - val_accuracy: 0.3891 - lr: 0.0045\n",
            "Epoch 35/100\n",
            "197/197 [==============================] - 1s 3ms/step - loss: 1.7018 - accuracy: 0.3837 - val_loss: 1.6068 - val_accuracy: 0.4077 - lr: 0.0050\n",
            "Epoch 36/100\n",
            "197/197 [==============================] - 1s 3ms/step - loss: 1.7258 - accuracy: 0.3735 - val_loss: 1.5815 - val_accuracy: 0.4320 - lr: 0.0056\n",
            "Epoch 37/100\n",
            "197/197 [==============================] - 1s 3ms/step - loss: 1.7312 - accuracy: 0.3680 - val_loss: 1.5845 - val_accuracy: 0.4421 - lr: 0.0063\n",
            "Epoch 38/100\n",
            "197/197 [==============================] - 1s 3ms/step - loss: 1.7475 - accuracy: 0.3622 - val_loss: 1.6920 - val_accuracy: 0.3763 - lr: 0.0071\n",
            "Epoch 39/100\n",
            "197/197 [==============================] - 1s 3ms/step - loss: 1.7934 - accuracy: 0.3463 - val_loss: 1.6939 - val_accuracy: 0.3777 - lr: 0.0079\n",
            "Epoch 40/100\n",
            "197/197 [==============================] - 1s 3ms/step - loss: 1.8267 - accuracy: 0.3330 - val_loss: 1.8095 - val_accuracy: 0.3362 - lr: 0.0089\n",
            "Epoch 41/100\n",
            "197/197 [==============================] - 1s 3ms/step - loss: 1.8627 - accuracy: 0.3174 - val_loss: 1.7710 - val_accuracy: 0.3348 - lr: 0.0100\n",
            "Epoch 42/100\n",
            "197/197 [==============================] - 1s 3ms/step - loss: 1.9182 - accuracy: 0.2959 - val_loss: 1.7527 - val_accuracy: 0.3877 - lr: 0.0112\n",
            "Epoch 43/100\n",
            "197/197 [==============================] - 1s 3ms/step - loss: 1.9191 - accuracy: 0.2976 - val_loss: 1.8165 - val_accuracy: 0.3262 - lr: 0.0126\n",
            "Epoch 44/100\n",
            "197/197 [==============================] - 1s 3ms/step - loss: 2.0021 - accuracy: 0.2580 - val_loss: 1.9647 - val_accuracy: 0.2175 - lr: 0.0141\n",
            "Epoch 45/100\n",
            "197/197 [==============================] - 1s 3ms/step - loss: 2.0200 - accuracy: 0.2436 - val_loss: 1.9483 - val_accuracy: 0.2690 - lr: 0.0158\n",
            "Epoch 46/100\n",
            "197/197 [==============================] - 1s 3ms/step - loss: 2.0905 - accuracy: 0.2254 - val_loss: 2.0645 - val_accuracy: 0.1817 - lr: 0.0178\n",
            "Epoch 47/100\n",
            "197/197 [==============================] - 1s 3ms/step - loss: 2.1006 - accuracy: 0.2135 - val_loss: 2.0020 - val_accuracy: 0.2246 - lr: 0.0200\n",
            "Epoch 48/100\n",
            "197/197 [==============================] - 1s 3ms/step - loss: 2.0945 - accuracy: 0.1990 - val_loss: 2.0402 - val_accuracy: 0.2175 - lr: 0.0224\n",
            "Epoch 49/100\n",
            "197/197 [==============================] - 1s 3ms/step - loss: 2.1390 - accuracy: 0.1868 - val_loss: 2.1596 - val_accuracy: 0.1860 - lr: 0.0251\n",
            "Epoch 50/100\n",
            "197/197 [==============================] - 1s 3ms/step - loss: 2.1869 - accuracy: 0.1734 - val_loss: 2.0909 - val_accuracy: 0.1845 - lr: 0.0282\n",
            "Epoch 51/100\n",
            "197/197 [==============================] - 1s 3ms/step - loss: 2.1473 - accuracy: 0.1845 - val_loss: 2.1077 - val_accuracy: 0.2103 - lr: 0.0316\n",
            "Epoch 52/100\n",
            "197/197 [==============================] - 1s 3ms/step - loss: 2.2084 - accuracy: 0.1632 - val_loss: 2.1830 - val_accuracy: 0.1817 - lr: 0.0355\n",
            "Epoch 53/100\n",
            "197/197 [==============================] - 1s 3ms/step - loss: 2.2259 - accuracy: 0.1460 - val_loss: 2.1677 - val_accuracy: 0.1903 - lr: 0.0398\n",
            "Epoch 54/100\n",
            "197/197 [==============================] - 1s 3ms/step - loss: 2.2395 - accuracy: 0.1425 - val_loss: 2.2335 - val_accuracy: 0.1202 - lr: 0.0447\n",
            "Epoch 55/100\n",
            "197/197 [==============================] - 1s 3ms/step - loss: 2.2336 - accuracy: 0.1502 - val_loss: 2.2313 - val_accuracy: 0.1202 - lr: 0.0501\n",
            "Epoch 56/100\n",
            "197/197 [==============================] - 1s 3ms/step - loss: 2.2414 - accuracy: 0.1285 - val_loss: 2.2415 - val_accuracy: 0.1173 - lr: 0.0562\n",
            "Epoch 57/100\n",
            "197/197 [==============================] - 1s 3ms/step - loss: 2.2554 - accuracy: 0.1360 - val_loss: 2.2694 - val_accuracy: 0.1159 - lr: 0.0631\n",
            "Epoch 58/100\n",
            "197/197 [==============================] - 1s 3ms/step - loss: 2.2675 - accuracy: 0.1187 - val_loss: 2.2706 - val_accuracy: 0.0973 - lr: 0.0708\n",
            "Epoch 59/100\n",
            "197/197 [==============================] - 1s 3ms/step - loss: 2.2698 - accuracy: 0.1134 - val_loss: 2.2713 - val_accuracy: 0.1144 - lr: 0.0794\n",
            "Epoch 60/100\n",
            "197/197 [==============================] - 1s 3ms/step - loss: 2.2668 - accuracy: 0.1147 - val_loss: 2.2716 - val_accuracy: 0.1144 - lr: 0.0891\n",
            "Epoch 61/100\n",
            "197/197 [==============================] - 1s 3ms/step - loss: 2.2692 - accuracy: 0.1144 - val_loss: 2.2697 - val_accuracy: 0.1016 - lr: 0.1000\n",
            "Epoch 62/100\n",
            "197/197 [==============================] - 1s 3ms/step - loss: 2.2736 - accuracy: 0.1136 - val_loss: 2.2828 - val_accuracy: 0.1116 - lr: 0.1122\n",
            "Epoch 63/100\n",
            "197/197 [==============================] - 1s 3ms/step - loss: 2.2729 - accuracy: 0.1098 - val_loss: 2.2839 - val_accuracy: 0.1173 - lr: 0.1259\n",
            "Epoch 64/100\n",
            "197/197 [==============================] - 1s 3ms/step - loss: 2.2794 - accuracy: 0.1104 - val_loss: 2.2670 - val_accuracy: 0.1302 - lr: 0.1413\n",
            "Epoch 65/100\n",
            "197/197 [==============================] - 1s 3ms/step - loss: 2.2799 - accuracy: 0.1093 - val_loss: 2.2662 - val_accuracy: 0.1302 - lr: 0.1585\n",
            "Epoch 66/100\n",
            "197/197 [==============================] - 1s 3ms/step - loss: 2.2780 - accuracy: 0.1142 - val_loss: 2.2748 - val_accuracy: 0.0973 - lr: 0.1778\n",
            "Epoch 67/100\n",
            "197/197 [==============================] - 1s 3ms/step - loss: 2.2851 - accuracy: 0.1096 - val_loss: 2.2748 - val_accuracy: 0.1302 - lr: 0.1995\n",
            "Epoch 68/100\n",
            "197/197 [==============================] - 1s 3ms/step - loss: 2.2880 - accuracy: 0.1133 - val_loss: 2.2886 - val_accuracy: 0.1302 - lr: 0.2239\n",
            "Epoch 69/100\n",
            "197/197 [==============================] - 1s 3ms/step - loss: 2.2963 - accuracy: 0.1101 - val_loss: 2.2699 - val_accuracy: 0.1302 - lr: 0.2512\n",
            "Epoch 70/100\n",
            "197/197 [==============================] - 1s 3ms/step - loss: 2.2887 - accuracy: 0.1223 - val_loss: 2.2727 - val_accuracy: 0.1144 - lr: 0.2818\n",
            "Epoch 71/100\n",
            "197/197 [==============================] - 1s 3ms/step - loss: 2.2908 - accuracy: 0.1204 - val_loss: 2.2947 - val_accuracy: 0.1302 - lr: 0.3162\n",
            "Epoch 72/100\n",
            "197/197 [==============================] - 1s 3ms/step - loss: 2.3046 - accuracy: 0.1122 - val_loss: 2.2803 - val_accuracy: 0.1302 - lr: 0.3548\n",
            "Epoch 73/100\n",
            "197/197 [==============================] - 1s 3ms/step - loss: 2.3063 - accuracy: 0.1145 - val_loss: 2.3077 - val_accuracy: 0.1173 - lr: 0.3981\n",
            "Epoch 74/100\n",
            "197/197 [==============================] - 1s 3ms/step - loss: 2.3216 - accuracy: 0.1134 - val_loss: 2.3405 - val_accuracy: 0.1144 - lr: 0.4467\n",
            "Epoch 75/100\n",
            "197/197 [==============================] - 1s 3ms/step - loss: 2.3124 - accuracy: 0.1196 - val_loss: 2.3419 - val_accuracy: 0.1302 - lr: 0.5012\n",
            "Epoch 76/100\n",
            "197/197 [==============================] - 1s 3ms/step - loss: 2.3246 - accuracy: 0.1144 - val_loss: 2.3922 - val_accuracy: 0.1144 - lr: 0.5623\n",
            "Epoch 77/100\n",
            "197/197 [==============================] - 1s 3ms/step - loss: 2.3267 - accuracy: 0.1083 - val_loss: 2.4494 - val_accuracy: 0.1302 - lr: 0.6310\n",
            "Epoch 78/100\n",
            "197/197 [==============================] - 1s 3ms/step - loss: 2.3393 - accuracy: 0.1192 - val_loss: 2.3060 - val_accuracy: 0.1173 - lr: 0.7079\n",
            "Epoch 79/100\n",
            "197/197 [==============================] - 1s 3ms/step - loss: 2.3691 - accuracy: 0.1134 - val_loss: 2.3367 - val_accuracy: 0.1302 - lr: 0.7943\n",
            "Epoch 80/100\n",
            "197/197 [==============================] - 1s 3ms/step - loss: 2.3551 - accuracy: 0.1152 - val_loss: 2.3722 - val_accuracy: 0.0973 - lr: 0.8913\n",
            "Epoch 81/100\n",
            "197/197 [==============================] - 1s 3ms/step - loss: 2.3800 - accuracy: 0.1182 - val_loss: 2.3537 - val_accuracy: 0.1144 - lr: 1.0000\n",
            "Epoch 82/100\n",
            "197/197 [==============================] - 1s 3ms/step - loss: 2.3975 - accuracy: 0.1074 - val_loss: 2.3559 - val_accuracy: 0.1144 - lr: 1.1220\n",
            "Epoch 83/100\n",
            "197/197 [==============================] - 1s 3ms/step - loss: 2.4160 - accuracy: 0.1083 - val_loss: 2.3895 - val_accuracy: 0.1173 - lr: 1.2589\n",
            "Epoch 84/100\n",
            "197/197 [==============================] - 1s 3ms/step - loss: 2.3922 - accuracy: 0.1137 - val_loss: 2.4021 - val_accuracy: 0.1116 - lr: 1.4125\n",
            "Epoch 85/100\n",
            "197/197 [==============================] - 1s 3ms/step - loss: 2.4609 - accuracy: 0.1115 - val_loss: 2.4479 - val_accuracy: 0.1059 - lr: 1.5849\n",
            "Epoch 86/100\n",
            "197/197 [==============================] - 1s 3ms/step - loss: 2.4669 - accuracy: 0.1125 - val_loss: 2.7036 - val_accuracy: 0.1144 - lr: 1.7783\n",
            "Epoch 87/100\n",
            "197/197 [==============================] - 1s 3ms/step - loss: 2.4768 - accuracy: 0.1209 - val_loss: 2.5318 - val_accuracy: 0.1116 - lr: 1.9953\n",
            "Epoch 88/100\n",
            "197/197 [==============================] - 1s 3ms/step - loss: 2.4887 - accuracy: 0.1107 - val_loss: 2.7779 - val_accuracy: 0.0973 - lr: 2.2387\n",
            "Epoch 89/100\n",
            "197/197 [==============================] - 1s 3ms/step - loss: 2.5200 - accuracy: 0.1128 - val_loss: 2.5862 - val_accuracy: 0.1302 - lr: 2.5119\n",
            "Epoch 90/100\n",
            "197/197 [==============================] - 1s 3ms/step - loss: 2.5678 - accuracy: 0.1072 - val_loss: 2.6217 - val_accuracy: 0.1302 - lr: 2.8184\n",
            "Epoch 91/100\n",
            "197/197 [==============================] - 1s 3ms/step - loss: 2.6103 - accuracy: 0.1126 - val_loss: 2.4466 - val_accuracy: 0.1302 - lr: 3.1623\n",
            "Epoch 92/100\n",
            "197/197 [==============================] - 1s 3ms/step - loss: 2.6217 - accuracy: 0.1136 - val_loss: 2.6780 - val_accuracy: 0.1059 - lr: 3.5481\n",
            "Epoch 93/100\n",
            "197/197 [==============================] - 1s 3ms/step - loss: 2.7004 - accuracy: 0.1098 - val_loss: 2.5795 - val_accuracy: 0.1116 - lr: 3.9811\n",
            "Epoch 94/100\n",
            "197/197 [==============================] - 1s 3ms/step - loss: 2.6834 - accuracy: 0.1058 - val_loss: 2.5530 - val_accuracy: 0.1116 - lr: 4.4668\n",
            "Epoch 95/100\n",
            "197/197 [==============================] - 1s 3ms/step - loss: 2.7763 - accuracy: 0.1066 - val_loss: 3.1446 - val_accuracy: 0.1059 - lr: 5.0119\n",
            "Epoch 96/100\n",
            "197/197 [==============================] - 1s 3ms/step - loss: 2.7758 - accuracy: 0.1166 - val_loss: 2.8355 - val_accuracy: 0.0415 - lr: 5.6234\n",
            "Epoch 97/100\n",
            "197/197 [==============================] - 1s 3ms/step - loss: 3.0190 - accuracy: 0.1090 - val_loss: 2.7279 - val_accuracy: 0.1059 - lr: 6.3096\n",
            "Epoch 98/100\n",
            "197/197 [==============================] - 1s 3ms/step - loss: 2.8955 - accuracy: 0.1117 - val_loss: 2.8187 - val_accuracy: 0.0973 - lr: 7.0795\n",
            "Epoch 99/100\n",
            "197/197 [==============================] - 1s 3ms/step - loss: 3.0539 - accuracy: 0.1115 - val_loss: 2.6360 - val_accuracy: 0.1173 - lr: 7.9433\n",
            "Epoch 100/100\n",
            "197/197 [==============================] - 1s 3ms/step - loss: 3.3175 - accuracy: 0.1109 - val_loss: 3.4187 - val_accuracy: 0.1016 - lr: 8.9125\n"
          ]
        }
      ]
    },
    {
      "cell_type": "code",
      "source": [
        "epoch = 100\n",
        "lr = 1e-4 * (10**(np.arange(epoch)/20))\n",
        "# plt.figure(figsize=(20,5))\n",
        "plt.semilogx(lr, history3.history['loss'])\n",
        "plt.xlabel(\"Learning Rate\")\n",
        "plt.ylabel(\"Loss\")\n",
        "plt.title(\"Learning rate vs. loss\");\n",
        "plt.show()"
      ],
      "metadata": {
        "colab": {
          "base_uri": "https://localhost:8080/",
          "height": 299
        },
        "id": "3ZvGYvyo-ibv",
        "outputId": "9054bbc4-4673-4b0d-fe92-2420110d24ef"
      },
      "execution_count": 31,
      "outputs": [
        {
          "output_type": "display_data",
          "data": {
            "text/plain": [
              "<Figure size 432x288 with 1 Axes>"
            ],
            "image/png": "[encoded data removed]"
          },
          "metadata": {
            "needs_background": "light"
          }
        }
      ]
    },
    {
      "cell_type": "code",
      "source": [
        "# Build Artificial Neural Network \n",
        "\n",
        "# set seed\n",
        "tf.random.set_seed(42)\n",
        "\n",
        "X_INPUT_SHAPE = 7\n",
        "Y_INPUT_SHAPE = 10\n",
        "\n",
        "# create ANN architecture\n",
        "model4 = tf.keras.Sequential([\n",
        "          \n",
        "          #first layer + Dropout\n",
        "          tf.keras.layers.Dense(50, input_shape=(X_INPUT_SHAPE,), activation='relu', name='First_layer'),\n",
        "          tf.keras.layers.Dropout(0.2),\n",
        "\n",
        "          # second layer + Dropout\n",
        "          tf.keras.layers.Dense(100, activation='relu', name='second_layer'),\n",
        "          tf.keras.layers.Dropout(0.2),\n",
        "\n",
        "          # Third layer + Dropout\n",
        "          tf.keras.layers.Dense(150, activation='relu', name='third_layer'),\n",
        "          tf.keras.layers.Dropout(0.2),\n",
        "\n",
        "          # # fourth layer\n",
        "          # tf.keras.layers.Dense(100, activation='relu', name='fourth_layer'),\n",
        "          # tf.keras.layers.Dropout(0.2),\n",
        "\n",
        "          # output layer - one hot y_values\n",
        "          tf.keras.layers.Dense(Y_INPUT_SHAPE, activation='softmax', name='output_layer')\n",
        "])\n",
        "\n",
        "# compile model\n",
        "model4.compile(\n",
        "    loss=tf.keras.losses.categorical_crossentropy,\n",
        "    optimizer=tf.keras.optimizers.Adam(lr=0.0008),\n",
        "    metrics=['accuracy']\n",
        ")\n",
        "\n",
        "history4 = model4.fit(X_train, y_train, epochs=50,\n",
        "                      validation_data=(X_val,y_val),\n",
        "                      verbose=1)"
      ],
      "metadata": {
        "colab": {
          "base_uri": "https://localhost:8080/"
        },
        "id": "8kMWaUrp-29d",
        "outputId": "c795874e-b6cb-4ca4-89aa-351da87723f5"
      },
      "execution_count": 53,
      "outputs": [
        {
          "output_type": "stream",
          "name": "stdout",
          "text": [
            "Epoch 1/50\n",
            "197/197 [==============================] - 1s 4ms/step - loss: 2.1792 - accuracy: 0.1756 - val_loss: 2.0552 - val_accuracy: 0.2175\n",
            "Epoch 2/50\n",
            "197/197 [==============================] - 1s 3ms/step - loss: 2.0249 - accuracy: 0.2385 - val_loss: 1.9543 - val_accuracy: 0.2561\n",
            "Epoch 3/50\n",
            "197/197 [==============================] - 1s 3ms/step - loss: 1.9635 - accuracy: 0.2661 - val_loss: 1.8974 - val_accuracy: 0.2647\n",
            "Epoch 4/50\n",
            "197/197 [==============================] - 1s 3ms/step - loss: 1.9323 - accuracy: 0.2747 - val_loss: 1.8657 - val_accuracy: 0.3019\n",
            "Epoch 5/50\n",
            "197/197 [==============================] - 1s 3ms/step - loss: 1.8954 - accuracy: 0.2916 - val_loss: 1.8256 - val_accuracy: 0.3448\n",
            "Epoch 6/50\n",
            "197/197 [==============================] - 1s 3ms/step - loss: 1.8643 - accuracy: 0.3080 - val_loss: 1.7940 - val_accuracy: 0.3433\n",
            "Epoch 7/50\n",
            "197/197 [==============================] - 1s 3ms/step - loss: 1.8326 - accuracy: 0.3245 - val_loss: 1.7675 - val_accuracy: 0.3763\n",
            "Epoch 8/50\n",
            "197/197 [==============================] - 1s 3ms/step - loss: 1.8198 - accuracy: 0.3295 - val_loss: 1.7472 - val_accuracy: 0.3848\n",
            "Epoch 9/50\n",
            "197/197 [==============================] - 1s 3ms/step - loss: 1.7928 - accuracy: 0.3406 - val_loss: 1.7341 - val_accuracy: 0.3619\n",
            "Epoch 10/50\n",
            "197/197 [==============================] - 1s 3ms/step - loss: 1.7793 - accuracy: 0.3568 - val_loss: 1.7092 - val_accuracy: 0.3662\n",
            "Epoch 11/50\n",
            "197/197 [==============================] - 1s 3ms/step - loss: 1.7593 - accuracy: 0.3643 - val_loss: 1.6949 - val_accuracy: 0.3705\n",
            "Epoch 12/50\n",
            "197/197 [==============================] - 1s 3ms/step - loss: 1.7465 - accuracy: 0.3579 - val_loss: 1.7011 - val_accuracy: 0.3963\n",
            "Epoch 13/50\n",
            "197/197 [==============================] - 1s 3ms/step - loss: 1.7482 - accuracy: 0.3637 - val_loss: 1.7006 - val_accuracy: 0.3791\n",
            "Epoch 14/50\n",
            "197/197 [==============================] - 1s 3ms/step - loss: 1.7162 - accuracy: 0.3777 - val_loss: 1.6701 - val_accuracy: 0.4006\n",
            "Epoch 15/50\n",
            "197/197 [==============================] - 1s 3ms/step - loss: 1.7226 - accuracy: 0.3793 - val_loss: 1.6741 - val_accuracy: 0.4063\n",
            "Epoch 16/50\n",
            "197/197 [==============================] - 1s 3ms/step - loss: 1.7037 - accuracy: 0.3762 - val_loss: 1.6470 - val_accuracy: 0.4235\n",
            "Epoch 17/50\n",
            "197/197 [==============================] - 1s 3ms/step - loss: 1.6938 - accuracy: 0.3832 - val_loss: 1.6550 - val_accuracy: 0.3991\n",
            "Epoch 18/50\n",
            "197/197 [==============================] - 1s 3ms/step - loss: 1.6877 - accuracy: 0.3882 - val_loss: 1.6239 - val_accuracy: 0.4263\n",
            "Epoch 19/50\n",
            "197/197 [==============================] - 1s 3ms/step - loss: 1.6696 - accuracy: 0.3941 - val_loss: 1.6273 - val_accuracy: 0.4149\n",
            "Epoch 20/50\n",
            "197/197 [==============================] - 1s 3ms/step - loss: 1.6619 - accuracy: 0.3979 - val_loss: 1.6084 - val_accuracy: 0.4263\n",
            "Epoch 21/50\n",
            "197/197 [==============================] - 1s 3ms/step - loss: 1.6578 - accuracy: 0.4030 - val_loss: 1.6061 - val_accuracy: 0.4120\n",
            "Epoch 22/50\n",
            "197/197 [==============================] - 1s 3ms/step - loss: 1.6500 - accuracy: 0.3996 - val_loss: 1.5919 - val_accuracy: 0.4335\n",
            "Epoch 23/50\n",
            "197/197 [==============================] - 1s 3ms/step - loss: 1.6451 - accuracy: 0.4111 - val_loss: 1.5936 - val_accuracy: 0.4249\n",
            "Epoch 24/50\n",
            "197/197 [==============================] - 1s 3ms/step - loss: 1.6412 - accuracy: 0.4068 - val_loss: 1.5826 - val_accuracy: 0.4378\n",
            "Epoch 25/50\n",
            "197/197 [==============================] - 1s 4ms/step - loss: 1.6313 - accuracy: 0.4158 - val_loss: 1.5676 - val_accuracy: 0.4406\n",
            "Epoch 26/50\n",
            "197/197 [==============================] - 1s 4ms/step - loss: 1.6232 - accuracy: 0.4168 - val_loss: 1.5807 - val_accuracy: 0.4464\n",
            "Epoch 27/50\n",
            "197/197 [==============================] - 1s 5ms/step - loss: 1.6143 - accuracy: 0.4181 - val_loss: 1.5541 - val_accuracy: 0.4392\n",
            "Epoch 28/50\n",
            "197/197 [==============================] - 1s 6ms/step - loss: 1.6166 - accuracy: 0.4214 - val_loss: 1.5369 - val_accuracy: 0.4464\n",
            "Epoch 29/50\n",
            "197/197 [==============================] - 1s 3ms/step - loss: 1.6082 - accuracy: 0.4286 - val_loss: 1.5404 - val_accuracy: 0.4592\n",
            "Epoch 30/50\n",
            "197/197 [==============================] - 1s 3ms/step - loss: 1.6117 - accuracy: 0.4193 - val_loss: 1.5605 - val_accuracy: 0.4449\n",
            "Epoch 31/50\n",
            "197/197 [==============================] - 1s 3ms/step - loss: 1.5953 - accuracy: 0.4273 - val_loss: 1.5299 - val_accuracy: 0.4778\n",
            "Epoch 32/50\n",
            "197/197 [==============================] - 1s 3ms/step - loss: 1.5920 - accuracy: 0.4259 - val_loss: 1.5326 - val_accuracy: 0.4392\n",
            "Epoch 33/50\n",
            "197/197 [==============================] - 1s 3ms/step - loss: 1.5850 - accuracy: 0.4313 - val_loss: 1.5184 - val_accuracy: 0.4549\n",
            "Epoch 34/50\n",
            "197/197 [==============================] - 1s 3ms/step - loss: 1.5830 - accuracy: 0.4300 - val_loss: 1.5340 - val_accuracy: 0.4478\n",
            "Epoch 35/50\n",
            "197/197 [==============================] - 1s 3ms/step - loss: 1.5802 - accuracy: 0.4360 - val_loss: 1.5176 - val_accuracy: 0.4592\n",
            "Epoch 36/50\n",
            "197/197 [==============================] - 1s 3ms/step - loss: 1.5789 - accuracy: 0.4329 - val_loss: 1.5328 - val_accuracy: 0.4564\n",
            "Epoch 37/50\n",
            "197/197 [==============================] - 1s 3ms/step - loss: 1.5696 - accuracy: 0.4403 - val_loss: 1.5140 - val_accuracy: 0.4607\n",
            "Epoch 38/50\n",
            "197/197 [==============================] - 1s 3ms/step - loss: 1.5698 - accuracy: 0.4446 - val_loss: 1.5114 - val_accuracy: 0.4549\n",
            "Epoch 39/50\n",
            "197/197 [==============================] - 1s 3ms/step - loss: 1.5633 - accuracy: 0.4410 - val_loss: 1.4984 - val_accuracy: 0.4778\n",
            "Epoch 40/50\n",
            "197/197 [==============================] - 1s 3ms/step - loss: 1.5641 - accuracy: 0.4392 - val_loss: 1.5005 - val_accuracy: 0.4750\n",
            "Epoch 41/50\n",
            "197/197 [==============================] - 1s 3ms/step - loss: 1.5547 - accuracy: 0.4346 - val_loss: 1.4900 - val_accuracy: 0.4678\n",
            "Epoch 42/50\n",
            "197/197 [==============================] - 1s 3ms/step - loss: 1.5473 - accuracy: 0.4531 - val_loss: 1.4845 - val_accuracy: 0.4735\n",
            "Epoch 43/50\n",
            "197/197 [==============================] - 1s 3ms/step - loss: 1.5544 - accuracy: 0.4413 - val_loss: 1.4888 - val_accuracy: 0.4721\n",
            "Epoch 44/50\n",
            "197/197 [==============================] - 1s 3ms/step - loss: 1.5447 - accuracy: 0.4489 - val_loss: 1.4799 - val_accuracy: 0.4721\n",
            "Epoch 45/50\n",
            "197/197 [==============================] - 1s 3ms/step - loss: 1.5431 - accuracy: 0.4591 - val_loss: 1.4880 - val_accuracy: 0.4835\n",
            "Epoch 46/50\n",
            "197/197 [==============================] - 1s 3ms/step - loss: 1.5437 - accuracy: 0.4445 - val_loss: 1.4794 - val_accuracy: 0.4735\n",
            "Epoch 47/50\n",
            "197/197 [==============================] - 1s 3ms/step - loss: 1.5324 - accuracy: 0.4535 - val_loss: 1.4627 - val_accuracy: 0.4878\n",
            "Epoch 48/50\n",
            "197/197 [==============================] - 1s 3ms/step - loss: 1.5287 - accuracy: 0.4528 - val_loss: 1.4665 - val_accuracy: 0.4864\n",
            "Epoch 49/50\n",
            "197/197 [==============================] - 1s 3ms/step - loss: 1.5346 - accuracy: 0.4462 - val_loss: 1.4702 - val_accuracy: 0.4707\n",
            "Epoch 50/50\n",
            "197/197 [==============================] - 1s 3ms/step - loss: 1.5315 - accuracy: 0.4558 - val_loss: 1.4664 - val_accuracy: 0.4793\n"
          ]
        }
      ]
    },
    {
      "cell_type": "code",
      "source": [
        "# encode y labels\n",
        "le = LabelEncoder()\n",
        "y_values = df.labels\n",
        "# print(y_values)\n",
        "\n",
        "y_encode = le.fit_transform(y_values)\n",
        "print(y_encode)\n",
        "mappings = {index: label for index, label in enumerate(le.classes_)}\n",
        "print('encoded data mapping')\n",
        "print(mappings)\n",
        "print('\\n \\n')\n",
        "\n",
        "X_train, X_test, y_train, y_test = train_test_split(X_scaled,y_encode, test_size=0.2,\n",
        "                                                    random_state=0)\n",
        "\n",
        "X_train.shape, X_test.shape, y_train.shape, y_test.shape"
      ],
      "metadata": {
        "colab": {
          "base_uri": "https://localhost:8080/"
        },
        "id": "lqE5taTaWXSs",
        "outputId": "ba706327-f6cf-4c84-8a5a-e732c8df4713"
      },
      "execution_count": 40,
      "outputs": [
        {
          "output_type": "stream",
          "name": "stdout",
          "text": [
            "[1 1 1 ... 4 4 4]\n",
            "encoded data mapping\n",
            "{0: 'air_conditioner', 1: 'car_horn', 2: 'children_playing', 3: 'dog_bark', 4: 'drilling', 5: 'engine_idling', 6: 'gun_shot', 7: 'jackhammer', 8: 'siren', 9: 'street_music'}\n",
            "\n",
            " \n",
            "\n"
          ]
        },
        {
          "output_type": "execute_result",
          "data": {
            "text/plain": [
              "((6985, 7), (1747, 7), (6985,), (1747,))"
            ]
          },
          "metadata": {},
          "execution_count": 40
        }
      ]
    },
    {
      "cell_type": "code",
      "source": [
        "# try out ml algorithms\n",
        "\n",
        "models = { 'kNN' : KNeighborsClassifier(),\n",
        "           'SVC' : SVC(C=1.0,kernel='rbf'),\n",
        "           'DecisionTreeClassifier' : DecisionTreeClassifier(),\n",
        "           'RandomForestClassifier' : RandomForestClassifier(),\n",
        "           'LogisticRegression'  : LogisticRegression(),\n",
        "           'GaussianNB' :  GaussianNB(),\n",
        "           'MLPClassifier' : MLPClassifier(hidden_layer_sizes=(128,128)),\n",
        "}\n",
        "\n",
        "for name, model in models.items():\n",
        "   model.fit(X_train,y_train)\n",
        "\n",
        "   #Predictiing on Test Set\n",
        "   y_pred = model.predict(X_test)\n",
        "\n",
        "   #Evaluating model using f1_score\n",
        "   print(f'{name} Accuracy score on test set is : {accuracy_score(y_test,y_pred)}') \n",
        "   print('\\n')\n",
        "\n"
      ],
      "metadata": {
        "colab": {
          "base_uri": "https://localhost:8080/"
        },
        "id": "oc2DiUwvAZF8",
        "outputId": "94e8ba02-8f87-47b9-85cd-72ce64eeda86"
      },
      "execution_count": 45,
      "outputs": [
        {
          "output_type": "stream",
          "name": "stdout",
          "text": [
            "kNN Accuracy score on test set is : 0.6416714367487121\n",
            "\n",
            "\n",
            "SVC Accuracy score on test set is : 0.4636519748139668\n",
            "\n",
            "\n",
            "DecisionTreeClassifier Accuracy score on test set is : 0.5809959931310819\n",
            "\n",
            "\n",
            "RandomForestClassifier Accuracy score on test set is : 0.6777332570120206\n",
            "\n",
            "\n",
            "LogisticRegression Accuracy score on test set is : 0.3686319404693761\n",
            "\n",
            "\n",
            "GaussianNB Accuracy score on test set is : 0.3102461362335432\n",
            "\n",
            "\n",
            "MLPClassifier Accuracy score on test set is : 0.5340583858042358\n",
            "\n",
            "\n"
          ]
        }
      ]
    },
    {
      "cell_type": "code",
      "source": [
        ""
      ],
      "metadata": {
        "id": "8yGicKMNX_qQ"
      },
      "execution_count": null,
      "outputs": []
    }
  ]
}